{
 "cells": [
  {
   "cell_type": "markdown",
   "metadata": {
    "id": "6YqZd3YT8EKp"
   },
   "source": [
    "### Import Modules"
   ]
  },
  {
   "cell_type": "code",
   "execution_count": 1,
   "metadata": {
    "id": "ufMRWg9Ys-L_"
   },
   "outputs": [],
   "source": [
    "import torch\n",
    "import torch.nn as nn\n",
    "import torch.optim as optim\n",
    "from torchvision import datasets, models, transforms\n",
    "from torchsummary import summary\n",
    "import matplotlib.pyplot as plt\n",
    "import torch.nn.functional as F\n",
    "import torch.backends.cudnn as cudnn\n",
    "import os\n",
    "import sys\n",
    "import time"
   ]
  },
  {
   "cell_type": "markdown",
   "metadata": {
    "id": "LvrCwMES74W4"
   },
   "source": [
    "### Hardware Accelerator Check"
   ]
  },
  {
   "cell_type": "code",
   "execution_count": 2,
   "metadata": {
    "colab": {
     "base_uri": "https://localhost:8080/"
    },
    "id": "mjUFclRx78qk",
    "outputId": "5abbd97b-e63c-4a56-f541-0b352d2471af"
   },
   "outputs": [
    {
     "data": {
      "text/plain": [
       "True"
      ]
     },
     "execution_count": 2,
     "metadata": {},
     "output_type": "execute_result"
    }
   ],
   "source": [
    "torch.cuda.is_available()"
   ]
  },
  {
   "cell_type": "code",
   "execution_count": 3,
   "metadata": {
    "id": "Pg-WAkTVzo2Q"
   },
   "outputs": [],
   "source": [
    "device = 'cuda' if torch.cuda.is_available() else 'cpu'"
   ]
  },
  {
   "cell_type": "markdown",
   "metadata": {
    "id": "ACZiV7w89N0l"
   },
   "source": [
    "### Data Preparation"
   ]
  },
  {
   "cell_type": "code",
   "execution_count": 4,
   "metadata": {
    "id": "Xv5JdFPh-iSs"
   },
   "outputs": [],
   "source": [
    "# defining data transforms for train and test datasets\n",
    "\n",
    "transform_train = transforms.Compose([\n",
    "    transforms.RandomCrop(32, padding=4),\n",
    "    transforms.RandomHorizontalFlip(),\n",
    "    transforms.ToTensor(),\n",
    "    transforms.Normalize((0.4914, 0.4822, 0.4465), (0.2023, 0.1994, 0.2010)),\n",
    "])\n",
    "\n",
    "transform_test = transforms.Compose([\n",
    "    transforms.ToTensor(),\n",
    "    transforms.Normalize((0.4914, 0.4822, 0.4465), (0.2023, 0.1994, 0.2010)),\n",
    "])\n"
   ]
  },
  {
   "cell_type": "code",
   "execution_count": 5,
   "metadata": {
    "colab": {
     "base_uri": "https://localhost:8080/"
    },
    "id": "hpYR5mrD9R99",
    "outputId": "f8183453-42b0-4694-f0c9-be25b1a26baa"
   },
   "outputs": [
    {
     "name": "stdout",
     "output_type": "stream",
     "text": [
      "Files already downloaded and verified\n",
      "Files already downloaded and verified\n"
     ]
    }
   ],
   "source": [
    "# importing CIFAR10 train and test datasets\n",
    "\n",
    "trainset = datasets.CIFAR10(root='./data', train=True, download=True, transform=transform_train)\n",
    "\n",
    "testset = datasets.CIFAR10(root='./data', train=False, download=True, transform=transform_test)"
   ]
  },
  {
   "cell_type": "code",
   "execution_count": 6,
   "metadata": {
    "colab": {
     "base_uri": "https://localhost:8080/"
    },
    "id": "UwMYna8fAYG9",
    "outputId": "8520f613-716a-462c-c87d-d977005a6494"
   },
   "outputs": [
    {
     "data": {
      "text/plain": [
       "Dataset CIFAR10\n",
       "    Number of datapoints: 50000\n",
       "    Root location: ./data\n",
       "    Split: Train\n",
       "    StandardTransform\n",
       "Transform: Compose(\n",
       "               RandomCrop(size=(32, 32), padding=4)\n",
       "               RandomHorizontalFlip(p=0.5)\n",
       "               ToTensor()\n",
       "               Normalize(mean=(0.4914, 0.4822, 0.4465), std=(0.2023, 0.1994, 0.201))\n",
       "           )"
      ]
     },
     "execution_count": 6,
     "metadata": {},
     "output_type": "execute_result"
    }
   ],
   "source": [
    "# number of data points in train dataset\n",
    "\n",
    "trainset"
   ]
  },
  {
   "cell_type": "code",
   "execution_count": 7,
   "metadata": {
    "colab": {
     "base_uri": "https://localhost:8080/"
    },
    "id": "ZoCxJBHyBCNH",
    "outputId": "95c07616-af06-4afb-9e62-780fb152905b"
   },
   "outputs": [
    {
     "data": {
      "text/plain": [
       "Dataset CIFAR10\n",
       "    Number of datapoints: 10000\n",
       "    Root location: ./data\n",
       "    Split: Test\n",
       "    StandardTransform\n",
       "Transform: Compose(\n",
       "               ToTensor()\n",
       "               Normalize(mean=(0.4914, 0.4822, 0.4465), std=(0.2023, 0.1994, 0.201))\n",
       "           )"
      ]
     },
     "execution_count": 7,
     "metadata": {},
     "output_type": "execute_result"
    }
   ],
   "source": [
    "# number of data points in test dataset\n",
    "\n",
    "testset"
   ]
  },
  {
   "cell_type": "code",
   "execution_count": 8,
   "metadata": {
    "id": "fk708NCiBX7T"
   },
   "outputs": [],
   "source": [
    "# creating data loaders for train and test datasets\n",
    "\n",
    "trainloader = torch.utils.data.DataLoader(trainset, batch_size=128, shuffle=True, num_workers=2)\n",
    "\n",
    "testloader = torch.utils.data.DataLoader(testset, batch_size=100, shuffle=False, num_workers=2)\n"
   ]
  },
  {
   "cell_type": "code",
   "execution_count": 9,
   "metadata": {
    "colab": {
     "base_uri": "https://localhost:8080/"
    },
    "id": "h29ZWJm5DAuh",
    "outputId": "4eefd6ff-3251-42a5-c55d-f9d3bd178cc6"
   },
   "outputs": [
    {
     "data": {
      "text/plain": [
       "['airplane',\n",
       " 'automobile',\n",
       " 'bird',\n",
       " 'cat',\n",
       " 'deer',\n",
       " 'dog',\n",
       " 'frog',\n",
       " 'horse',\n",
       " 'ship',\n",
       " 'truck']"
      ]
     },
     "execution_count": 9,
     "metadata": {},
     "output_type": "execute_result"
    }
   ],
   "source": [
    "# The different classes in CIFAR10 dataset are\n",
    "\n",
    "trainset.classes"
   ]
  },
  {
   "cell_type": "markdown",
   "metadata": {
    "id": "EInXPW4McCbW"
   },
   "source": [
    "### ResNet18 NN Basic Block"
   ]
  },
  {
   "cell_type": "code",
   "execution_count": 10,
   "metadata": {
    "id": "F2qgIJrKdlBR"
   },
   "outputs": [],
   "source": [
    "class BasicBlock(nn.Module):\n",
    "    expansion = 1\n",
    "\n",
    "    def __init__(self, in_channels, out_channels, stride = 1, conv_kernel_size = 3, skip_connection_kernel_size = 1):\n",
    "        super(BasicBlock, self).__init__()\n",
    "        self.conv1 = nn.Conv2d(in_channels, out_channels, kernel_size = conv_kernel_size, stride = stride, padding = 1, bias = False)\n",
    "        self.bn1 = nn.BatchNorm2d(out_channels)\n",
    "        self.conv2 = nn.Conv2d(out_channels, out_channels, kernel_size = conv_kernel_size, stride = 1, padding = 1, bias = False)\n",
    "        self.bn2 = nn.BatchNorm2d(out_channels)\n",
    "\n",
    "        self.shortcut = nn.Sequential()\n",
    "        if stride != 1 or in_channels != self.expansion * out_channels:\n",
    "            self.shortcut = nn.Sequential(\n",
    "                nn.Conv2d(in_channels, self.expansion * out_channels, kernel_size = skip_connection_kernel_size, stride = stride, bias = False),\n",
    "                nn.BatchNorm2d(self.expansion * out_channels)\n",
    "            )\n",
    "\n",
    "    def forward(self, x):\n",
    "        out = F.relu(self.bn1(self.conv1(x)))\n",
    "        out = self.bn2(self.conv2(out))\n",
    "        out += self.shortcut(x)\n",
    "        out = F.relu(out)\n",
    "        return out"
   ]
  },
  {
   "cell_type": "markdown",
   "metadata": {
    "id": "Q426VQXygcsk"
   },
   "source": [
    "### ResNet18 Architecture"
   ]
  },
  {
   "cell_type": "code",
   "execution_count": 11,
   "metadata": {
    "id": "P0v523cAghUa"
   },
   "outputs": [],
   "source": [
    "class ResNet(nn.Module):\n",
    "    def __init__(self, block, num_blocks, channels, conv_kernel_size, skip_connection_kernel_size, avg_maxPool_size, num_classes = 10):\n",
    "        super(ResNet, self).__init__()\n",
    "        self.input = channels[0]\n",
    "        self.conv_kernel_size = conv_kernel_size\n",
    "        self.skip_connection_kernel_size = skip_connection_kernel_size\n",
    "        self.avg_maxPool_size = avg_maxPool_size\n",
    "\n",
    "        self.conv1 = nn.Conv2d(3, channels[0], kernel_size = 3, stride = 1, padding = 1, bias = False)\n",
    "        self.bn1 = nn.BatchNorm2d(channels[0])\n",
    "        self.layer1 = self._make_layer(block[0], channels[0], num_blocks[0], stride = 1)\n",
    "        self.layer2 = self._make_layer(block[1], channels[1], num_blocks[1], stride = 2)\n",
    "        self.layer3 = self._make_layer(block[2], channels[2], num_blocks[2], stride = 2)\n",
    "        self.layer4 = self._make_layer(block[3], channels[3], num_blocks[3], stride = 2)\n",
    "        self.linear = nn.Linear(channels[3] * block[3].expansion, num_classes)\n",
    "\n",
    "    def _make_layer(self, block, out_channels, num_blocks, stride):\n",
    "        strides = [stride] + [1]*(num_blocks-1)\n",
    "        layers = []\n",
    "        for stride in strides:\n",
    "            layers.append(block(self.input, out_channels, stride, self.conv_kernel_size, self.skip_connection_kernel_size))\n",
    "            self.input = out_channels * block.expansion\n",
    "        return nn.Sequential(*layers)\n",
    "\n",
    "    def forward(self, x):\n",
    "        out = F.relu(self.bn1(self.conv1(x)))\n",
    "        out = self.layer1(out)\n",
    "        out = self.layer2(out)\n",
    "        out = self.layer3(out)\n",
    "        out = self.layer4(out)\n",
    "        out = F.avg_pool2d(out, self.avg_maxPool_size)\n",
    "        out = torch.flatten(out, 1)\n",
    "        out = self.linear(out)\n",
    "        return out"
   ]
  },
  {
   "cell_type": "markdown",
   "metadata": {
    "id": "OLeaBXhHjhwf"
   },
   "source": [
    "### Initialize the Model"
   ]
  },
  {
   "cell_type": "code",
   "execution_count": 13,
   "metadata": {
    "id": "J7pxIGqijjz2"
   },
   "outputs": [
    {
     "name": "stdout",
     "output_type": "stream",
     "text": [
      "----------------------------------------------------------------\n",
      "        Layer (type)               Output Shape         Param #\n",
      "================================================================\n",
      "            Conv2d-1           [-1, 64, 32, 32]           1,728\n",
      "       BatchNorm2d-2           [-1, 64, 32, 32]             128\n",
      "            Conv2d-3           [-1, 64, 32, 32]          36,864\n",
      "       BatchNorm2d-4           [-1, 64, 32, 32]             128\n",
      "            Conv2d-5           [-1, 64, 32, 32]          36,864\n",
      "       BatchNorm2d-6           [-1, 64, 32, 32]             128\n",
      "        BasicBlock-7           [-1, 64, 32, 32]               0\n",
      "            Conv2d-8           [-1, 64, 32, 32]          36,864\n",
      "       BatchNorm2d-9           [-1, 64, 32, 32]             128\n",
      "           Conv2d-10           [-1, 64, 32, 32]          36,864\n",
      "      BatchNorm2d-11           [-1, 64, 32, 32]             128\n",
      "       BasicBlock-12           [-1, 64, 32, 32]               0\n",
      "           Conv2d-13          [-1, 128, 16, 16]          73,728\n",
      "      BatchNorm2d-14          [-1, 128, 16, 16]             256\n",
      "           Conv2d-15          [-1, 128, 16, 16]         147,456\n",
      "      BatchNorm2d-16          [-1, 128, 16, 16]             256\n",
      "           Conv2d-17          [-1, 128, 16, 16]           8,192\n",
      "      BatchNorm2d-18          [-1, 128, 16, 16]             256\n",
      "       BasicBlock-19          [-1, 128, 16, 16]               0\n",
      "           Conv2d-20          [-1, 128, 16, 16]         147,456\n",
      "      BatchNorm2d-21          [-1, 128, 16, 16]             256\n",
      "           Conv2d-22          [-1, 128, 16, 16]         147,456\n",
      "      BatchNorm2d-23          [-1, 128, 16, 16]             256\n",
      "       BasicBlock-24          [-1, 128, 16, 16]               0\n",
      "           Conv2d-25            [-1, 232, 8, 8]         267,264\n",
      "      BatchNorm2d-26            [-1, 232, 8, 8]             464\n",
      "           Conv2d-27            [-1, 232, 8, 8]         484,416\n",
      "      BatchNorm2d-28            [-1, 232, 8, 8]             464\n",
      "           Conv2d-29            [-1, 232, 8, 8]          29,696\n",
      "      BatchNorm2d-30            [-1, 232, 8, 8]             464\n",
      "       BasicBlock-31            [-1, 232, 8, 8]               0\n",
      "           Conv2d-32            [-1, 232, 8, 8]         484,416\n",
      "      BatchNorm2d-33            [-1, 232, 8, 8]             464\n",
      "           Conv2d-34            [-1, 232, 8, 8]         484,416\n",
      "      BatchNorm2d-35            [-1, 232, 8, 8]             464\n",
      "       BasicBlock-36            [-1, 232, 8, 8]               0\n",
      "           Conv2d-37            [-1, 268, 4, 4]         559,584\n",
      "      BatchNorm2d-38            [-1, 268, 4, 4]             536\n",
      "           Conv2d-39            [-1, 268, 4, 4]         646,416\n",
      "      BatchNorm2d-40            [-1, 268, 4, 4]             536\n",
      "           Conv2d-41            [-1, 268, 4, 4]          62,176\n",
      "      BatchNorm2d-42            [-1, 268, 4, 4]             536\n",
      "       BasicBlock-43            [-1, 268, 4, 4]               0\n",
      "           Conv2d-44            [-1, 268, 4, 4]         646,416\n",
      "      BatchNorm2d-45            [-1, 268, 4, 4]             536\n",
      "           Conv2d-46            [-1, 268, 4, 4]         646,416\n",
      "      BatchNorm2d-47            [-1, 268, 4, 4]             536\n",
      "       BasicBlock-48            [-1, 268, 4, 4]               0\n",
      "           Linear-49                   [-1, 10]           2,690\n",
      "================================================================\n",
      "Total params: 4,994,298\n",
      "Trainable params: 4,994,298\n",
      "Non-trainable params: 0\n",
      "----------------------------------------------------------------\n",
      "Input size (MB): 0.01\n",
      "Forward/backward pass size (MB): 10.75\n",
      "Params size (MB): 19.05\n",
      "Estimated Total Size (MB): 29.82\n",
      "----------------------------------------------------------------\n"
     ]
    }
   ],
   "source": [
    "net = ResNet([BasicBlock, BasicBlock, BasicBlock, BasicBlock], [2, 2, 2, 2], [64, 128, 232, 268], 3, 1, 4).to(device)  # Reaches ~80% within 5 epochs\n",
    "summary(net, input_size=(3,32,32))"
   ]
  },
  {
   "cell_type": "code",
   "execution_count": 14,
   "metadata": {
    "colab": {
     "base_uri": "https://localhost:8080/"
    },
    "id": "EvhKWuXTjzEZ",
    "outputId": "65d0a6ed-b8bb-475e-fb9e-0a74bf4e2d88"
   },
   "outputs": [
    {
     "name": "stdout",
     "output_type": "stream",
     "text": [
      "Device is set to CUDA\n"
     ]
    }
   ],
   "source": [
    "net = net.to(device)\n",
    "if device == 'cuda':\n",
    "    net = torch.nn.DataParallel(net)\n",
    "    cudnn.benchmark = True\n",
    "    print(\"Device is set to CUDA\")"
   ]
  },
  {
   "cell_type": "code",
   "execution_count": 15,
   "metadata": {
    "id": "dtC0jvf_kQYU"
   },
   "outputs": [],
   "source": [
    "best_acc = 0  # best test accuracy\n",
    "start_epoch = 0 # start from epoch 0 or last checkpoint epoch"
   ]
  },
  {
   "cell_type": "markdown",
   "metadata": {
    "id": "AcyhvqZfkuTh"
   },
   "source": [
    "### Define Optimizer"
   ]
  },
  {
   "cell_type": "code",
   "execution_count": 16,
   "metadata": {
    "id": "tY8PnX79kx6f"
   },
   "outputs": [],
   "source": [
    "criterion = nn.CrossEntropyLoss()\n",
    "\n",
    "optimizer = optim.SGD(net.parameters(), lr=0.1,\n",
    "                      momentum=0.9, weight_decay=5e-4)\n",
    "\n",
    "scheduler = torch.optim.lr_scheduler.CosineAnnealingLR(optimizer, T_max=200)"
   ]
  },
  {
   "cell_type": "markdown",
   "metadata": {
    "id": "LjZwX5IGlC6v"
   },
   "source": [
    "### Training"
   ]
  },
  {
   "cell_type": "code",
   "execution_count": null,
   "metadata": {
    "id": "8mH6UrxulEb7"
   },
   "outputs": [],
   "source": [
    "# def train(epoch):\n",
    "#     print('\\nEpoch: %d' % epoch)\n",
    "#     net.train()\n",
    "#     train_loss = 0\n",
    "#     correct = 0\n",
    "#     total = 0\n",
    "#     for batch_idx, (inputs, targets) in enumerate(trainloader):\n",
    "#         inputs, targets = inputs.to(device), targets.to(device)\n",
    "#         optimizer.zero_grad()\n",
    "#         outputs = net(inputs)\n",
    "#         loss = criterion(outputs, targets)\n",
    "#         loss.backward()\n",
    "#         optimizer.step()\n",
    "\n",
    "#         train_loss += loss.item()\n",
    "#         _, predicted = outputs.max(1)\n",
    "#         total += targets.size(0)\n",
    "#         correct += predicted.eq(targets).sum().item()\n",
    "\n",
    "#     print('Train Loss: %.3f | Train Acc: %.3f%% (%d/%d)'% (train_loss/(batch_idx+1), 100.*correct/total, correct, total))"
   ]
  },
  {
   "cell_type": "markdown",
   "metadata": {
    "id": "PlaAGeTrlGZe"
   },
   "source": [
    "### Testing"
   ]
  },
  {
   "cell_type": "code",
   "execution_count": null,
   "metadata": {
    "id": "yfc1pPlclHu1"
   },
   "outputs": [],
   "source": [
    "# def test(epoch):\n",
    "#     global best_acc\n",
    "#     net.eval()\n",
    "#     test_loss = 0\n",
    "#     correct = 0\n",
    "#     total = 0\n",
    "#     with torch.no_grad():\n",
    "#         for batch_idx, (inputs, targets) in enumerate(testloader):\n",
    "#             inputs, targets = inputs.to(device), targets.to(device)\n",
    "#             outputs = net(inputs)\n",
    "#             loss = criterion(outputs, targets)\n",
    "\n",
    "#             test_loss += loss.item()\n",
    "#             _, predicted = outputs.max(1)\n",
    "#             total += targets.size(0)\n",
    "#             correct += predicted.eq(targets).sum().item()\n",
    "\n",
    "#         print('Test Loss: %.3f | Test Acc: %.3f%% (%d/%d)'% (test_loss/(batch_idx+1), 100.*correct/total, correct, total))\n",
    "\n",
    "#     # Save checkpoint.\n",
    "#     acc = 100.*correct/total\n",
    "#     if acc > best_acc:\n",
    "#         print('Saving..')\n",
    "#         state = {\n",
    "#             'net': net.state_dict(),\n",
    "#             'acc': acc,\n",
    "#             'epoch': epoch,\n",
    "#         }\n",
    "#         if not os.path.isdir('checkpoint'):\n",
    "#             os.mkdir('checkpoint')\n",
    "#         torch.save(state, './checkpoint/ckpt.pth')\n",
    "#         best_acc = acc\n"
   ]
  },
  {
   "cell_type": "markdown",
   "metadata": {
    "id": "OwmJ6hWSpuy0"
   },
   "source": [
    "### Train and Evaluate"
   ]
  },
  {
   "cell_type": "code",
   "execution_count": 17,
   "metadata": {
    "colab": {
     "base_uri": "https://localhost:8080/"
    },
    "id": "VTKUBhizpzv7",
    "outputId": "25d8a8b5-9dfd-48e3-c693-dd99d8f00053"
   },
   "outputs": [
    {
     "name": "stdout",
     "output_type": "stream",
     "text": [
      "\n",
      "Epoch: 0\n",
      "Train Loss: 1.673 | Train Acc: 38.244% (19122/50000)\n",
      "Test Loss: 1.351 | Test Acc: 50.900% (5090/10000)\n",
      "Saving..\n",
      "\n",
      "Epoch: 1\n",
      "Train Loss: 1.159 | Train Acc: 58.224% (29112/50000)\n",
      "Test Loss: 1.067 | Test Acc: 63.150% (6315/10000)\n",
      "Saving..\n",
      "\n",
      "Epoch: 2\n",
      "Train Loss: 0.897 | Train Acc: 68.198% (34099/50000)\n",
      "Test Loss: 0.986 | Test Acc: 64.060% (6406/10000)\n",
      "Saving..\n",
      "\n",
      "Epoch: 3\n",
      "Train Loss: 0.727 | Train Acc: 74.792% (37396/50000)\n",
      "Test Loss: 0.699 | Test Acc: 75.920% (7592/10000)\n",
      "Saving..\n",
      "\n",
      "Epoch: 4\n",
      "Train Loss: 0.638 | Train Acc: 77.982% (38991/50000)\n",
      "Test Loss: 0.833 | Test Acc: 72.240% (7224/10000)\n",
      "\n",
      "Epoch: 5\n",
      "Train Loss: 0.582 | Train Acc: 79.840% (39920/50000)\n",
      "Test Loss: 0.695 | Test Acc: 76.690% (7669/10000)\n",
      "Saving..\n",
      "\n",
      "Epoch: 6\n",
      "Train Loss: 0.531 | Train Acc: 81.720% (40860/50000)\n",
      "Test Loss: 0.804 | Test Acc: 73.870% (7387/10000)\n",
      "\n",
      "Epoch: 7\n",
      "Train Loss: 0.504 | Train Acc: 82.790% (41395/50000)\n",
      "Test Loss: 0.728 | Test Acc: 74.720% (7472/10000)\n",
      "\n",
      "Epoch: 8\n",
      "Train Loss: 0.486 | Train Acc: 83.292% (41646/50000)\n",
      "Test Loss: 0.577 | Test Acc: 80.600% (8060/10000)\n",
      "Saving..\n",
      "\n",
      "Epoch: 9\n",
      "Train Loss: 0.468 | Train Acc: 84.074% (42037/50000)\n",
      "Test Loss: 0.675 | Test Acc: 77.670% (7767/10000)\n",
      "\n",
      "Epoch: 10\n",
      "Train Loss: 0.455 | Train Acc: 84.430% (42215/50000)\n",
      "Test Loss: 0.671 | Test Acc: 79.090% (7909/10000)\n",
      "\n",
      "Epoch: 11\n",
      "Train Loss: 0.440 | Train Acc: 84.994% (42497/50000)\n",
      "Test Loss: 0.631 | Test Acc: 78.810% (7881/10000)\n",
      "\n",
      "Epoch: 12\n",
      "Train Loss: 0.427 | Train Acc: 85.338% (42669/50000)\n",
      "Test Loss: 0.593 | Test Acc: 80.170% (8017/10000)\n",
      "\n",
      "Epoch: 13\n",
      "Train Loss: 0.417 | Train Acc: 85.774% (42887/50000)\n",
      "Test Loss: 0.839 | Test Acc: 74.400% (7440/10000)\n",
      "\n",
      "Epoch: 14\n",
      "Train Loss: 0.413 | Train Acc: 85.862% (42931/50000)\n",
      "Test Loss: 0.516 | Test Acc: 82.060% (8206/10000)\n",
      "Saving..\n",
      "\n",
      "Epoch: 15\n",
      "Train Loss: 0.404 | Train Acc: 86.178% (43089/50000)\n",
      "Test Loss: 0.724 | Test Acc: 77.920% (7792/10000)\n",
      "\n",
      "Epoch: 16\n",
      "Train Loss: 0.398 | Train Acc: 86.234% (43117/50000)\n",
      "Test Loss: 0.647 | Test Acc: 78.410% (7841/10000)\n",
      "\n",
      "Epoch: 17\n",
      "Train Loss: 0.392 | Train Acc: 86.488% (43244/50000)\n",
      "Test Loss: 0.554 | Test Acc: 82.030% (8203/10000)\n",
      "\n",
      "Epoch: 18\n",
      "Train Loss: 0.384 | Train Acc: 86.924% (43462/50000)\n",
      "Test Loss: 0.692 | Test Acc: 78.090% (7809/10000)\n",
      "\n",
      "Epoch: 19\n",
      "Train Loss: 0.376 | Train Acc: 87.142% (43571/50000)\n",
      "Test Loss: 0.582 | Test Acc: 81.030% (8103/10000)\n",
      "\n",
      "Epoch: 20\n",
      "Train Loss: 0.373 | Train Acc: 87.392% (43696/50000)\n",
      "Test Loss: 0.545 | Test Acc: 82.490% (8249/10000)\n",
      "Saving..\n",
      "\n",
      "Epoch: 21\n",
      "Train Loss: 0.364 | Train Acc: 87.546% (43773/50000)\n",
      "Test Loss: 0.481 | Test Acc: 84.030% (8403/10000)\n",
      "Saving..\n",
      "\n",
      "Epoch: 22\n",
      "Train Loss: 0.368 | Train Acc: 87.418% (43709/50000)\n",
      "Test Loss: 0.452 | Test Acc: 84.490% (8449/10000)\n",
      "Saving..\n",
      "\n",
      "Epoch: 23\n",
      "Train Loss: 0.364 | Train Acc: 87.686% (43843/50000)\n",
      "Test Loss: 0.692 | Test Acc: 76.760% (7676/10000)\n",
      "\n",
      "Epoch: 24\n",
      "Train Loss: 0.349 | Train Acc: 88.118% (44059/50000)\n",
      "Test Loss: 0.533 | Test Acc: 82.420% (8242/10000)\n",
      "\n",
      "Epoch: 25\n",
      "Train Loss: 0.351 | Train Acc: 88.110% (44055/50000)\n",
      "Test Loss: 0.468 | Test Acc: 83.990% (8399/10000)\n",
      "\n",
      "Epoch: 26\n",
      "Train Loss: 0.358 | Train Acc: 87.804% (43902/50000)\n",
      "Test Loss: 0.500 | Test Acc: 82.810% (8281/10000)\n",
      "\n",
      "Epoch: 27\n",
      "Train Loss: 0.351 | Train Acc: 88.050% (44025/50000)\n",
      "Test Loss: 0.541 | Test Acc: 82.640% (8264/10000)\n",
      "\n",
      "Epoch: 28\n",
      "Train Loss: 0.346 | Train Acc: 88.098% (44049/50000)\n",
      "Test Loss: 0.531 | Test Acc: 82.510% (8251/10000)\n",
      "\n",
      "Epoch: 29\n",
      "Train Loss: 0.344 | Train Acc: 88.094% (44047/50000)\n",
      "Test Loss: 0.508 | Test Acc: 82.920% (8292/10000)\n",
      "\n",
      "Epoch: 30\n",
      "Train Loss: 0.337 | Train Acc: 88.552% (44276/50000)\n",
      "Test Loss: 0.471 | Test Acc: 84.190% (8419/10000)\n",
      "\n",
      "Epoch: 31\n",
      "Train Loss: 0.337 | Train Acc: 88.518% (44259/50000)\n",
      "Test Loss: 0.580 | Test Acc: 81.810% (8181/10000)\n",
      "\n",
      "Epoch: 32\n",
      "Train Loss: 0.333 | Train Acc: 88.568% (44284/50000)\n",
      "Test Loss: 0.449 | Test Acc: 85.350% (8535/10000)\n",
      "Saving..\n",
      "\n",
      "Epoch: 33\n",
      "Train Loss: 0.331 | Train Acc: 88.658% (44329/50000)\n",
      "Test Loss: 0.550 | Test Acc: 82.160% (8216/10000)\n",
      "\n",
      "Epoch: 34\n",
      "Train Loss: 0.330 | Train Acc: 88.788% (44394/50000)\n",
      "Test Loss: 0.464 | Test Acc: 84.420% (8442/10000)\n",
      "\n",
      "Epoch: 35\n",
      "Train Loss: 0.330 | Train Acc: 88.848% (44424/50000)\n",
      "Test Loss: 0.534 | Test Acc: 83.070% (8307/10000)\n",
      "\n",
      "Epoch: 36\n",
      "Train Loss: 0.332 | Train Acc: 88.680% (44340/50000)\n",
      "Test Loss: 0.601 | Test Acc: 80.540% (8054/10000)\n",
      "\n",
      "Epoch: 37\n",
      "Train Loss: 0.319 | Train Acc: 89.096% (44548/50000)\n",
      "Test Loss: 0.439 | Test Acc: 85.260% (8526/10000)\n",
      "\n",
      "Epoch: 38\n",
      "Train Loss: 0.322 | Train Acc: 89.078% (44539/50000)\n",
      "Test Loss: 0.431 | Test Acc: 85.960% (8596/10000)\n",
      "Saving..\n",
      "\n",
      "Epoch: 39\n",
      "Train Loss: 0.322 | Train Acc: 89.062% (44531/50000)\n",
      "Test Loss: 0.503 | Test Acc: 83.640% (8364/10000)\n",
      "\n",
      "Epoch: 40\n",
      "Train Loss: 0.315 | Train Acc: 89.240% (44620/50000)\n",
      "Test Loss: 0.453 | Test Acc: 85.750% (8575/10000)\n",
      "\n",
      "Epoch: 41\n",
      "Train Loss: 0.320 | Train Acc: 89.190% (44595/50000)\n",
      "Test Loss: 0.639 | Test Acc: 80.050% (8005/10000)\n",
      "\n",
      "Epoch: 42\n",
      "Train Loss: 0.316 | Train Acc: 89.162% (44581/50000)\n",
      "Test Loss: 0.499 | Test Acc: 83.800% (8380/10000)\n",
      "\n",
      "Epoch: 43\n",
      "Train Loss: 0.314 | Train Acc: 89.280% (44640/50000)\n",
      "Test Loss: 0.448 | Test Acc: 85.680% (8568/10000)\n",
      "\n",
      "Epoch: 44\n",
      "Train Loss: 0.313 | Train Acc: 89.216% (44608/50000)\n",
      "Test Loss: 0.426 | Test Acc: 85.830% (8583/10000)\n",
      "\n",
      "Epoch: 45\n",
      "Train Loss: 0.306 | Train Acc: 89.476% (44738/50000)\n",
      "Test Loss: 0.436 | Test Acc: 85.550% (8555/10000)\n",
      "\n",
      "Epoch: 46\n",
      "Train Loss: 0.311 | Train Acc: 89.526% (44763/50000)\n",
      "Test Loss: 0.436 | Test Acc: 85.740% (8574/10000)\n",
      "\n",
      "Epoch: 47\n",
      "Train Loss: 0.308 | Train Acc: 89.534% (44767/50000)\n",
      "Test Loss: 0.388 | Test Acc: 87.140% (8714/10000)\n",
      "Saving..\n",
      "\n",
      "Epoch: 48\n",
      "Train Loss: 0.305 | Train Acc: 89.440% (44720/50000)\n",
      "Test Loss: 0.403 | Test Acc: 86.660% (8666/10000)\n",
      "\n",
      "Epoch: 49\n",
      "Train Loss: 0.299 | Train Acc: 89.798% (44899/50000)\n",
      "Test Loss: 0.557 | Test Acc: 82.730% (8273/10000)\n",
      "\n",
      "Epoch: 50\n",
      "Train Loss: 0.295 | Train Acc: 89.900% (44950/50000)\n",
      "Test Loss: 0.424 | Test Acc: 86.340% (8634/10000)\n",
      "\n",
      "Epoch: 51\n",
      "Train Loss: 0.299 | Train Acc: 89.636% (44818/50000)\n",
      "Test Loss: 0.571 | Test Acc: 82.130% (8213/10000)\n",
      "\n",
      "Epoch: 52\n",
      "Train Loss: 0.298 | Train Acc: 89.944% (44972/50000)\n",
      "Test Loss: 0.482 | Test Acc: 84.490% (8449/10000)\n",
      "\n",
      "Epoch: 53\n",
      "Train Loss: 0.296 | Train Acc: 89.912% (44956/50000)\n",
      "Test Loss: 0.457 | Test Acc: 84.810% (8481/10000)\n",
      "\n",
      "Epoch: 54\n",
      "Train Loss: 0.290 | Train Acc: 90.036% (45018/50000)\n",
      "Test Loss: 0.565 | Test Acc: 81.800% (8180/10000)\n",
      "\n",
      "Epoch: 55\n",
      "Train Loss: 0.288 | Train Acc: 90.298% (45149/50000)\n",
      "Test Loss: 0.429 | Test Acc: 86.030% (8603/10000)\n",
      "\n",
      "Epoch: 56\n",
      "Train Loss: 0.286 | Train Acc: 90.258% (45129/50000)\n",
      "Test Loss: 0.419 | Test Acc: 85.980% (8598/10000)\n",
      "\n",
      "Epoch: 57\n",
      "Train Loss: 0.288 | Train Acc: 90.286% (45143/50000)\n",
      "Test Loss: 0.468 | Test Acc: 84.780% (8478/10000)\n",
      "\n",
      "Epoch: 58\n",
      "Train Loss: 0.283 | Train Acc: 90.288% (45144/50000)\n",
      "Test Loss: 0.392 | Test Acc: 87.220% (8722/10000)\n",
      "Saving..\n",
      "\n",
      "Epoch: 59\n",
      "Train Loss: 0.280 | Train Acc: 90.382% (45191/50000)\n",
      "Test Loss: 0.521 | Test Acc: 82.810% (8281/10000)\n",
      "\n",
      "Epoch: 60\n",
      "Train Loss: 0.275 | Train Acc: 90.700% (45350/50000)\n",
      "Test Loss: 0.479 | Test Acc: 84.810% (8481/10000)\n",
      "\n",
      "Epoch: 61\n",
      "Train Loss: 0.280 | Train Acc: 90.464% (45232/50000)\n",
      "Test Loss: 0.469 | Test Acc: 84.410% (8441/10000)\n",
      "\n",
      "Epoch: 62\n",
      "Train Loss: 0.282 | Train Acc: 90.268% (45134/50000)\n",
      "Test Loss: 0.478 | Test Acc: 84.300% (8430/10000)\n",
      "\n",
      "Epoch: 63\n",
      "Train Loss: 0.274 | Train Acc: 90.528% (45264/50000)\n",
      "Test Loss: 0.443 | Test Acc: 85.890% (8589/10000)\n",
      "\n",
      "Epoch: 64\n",
      "Train Loss: 0.274 | Train Acc: 90.636% (45318/50000)\n",
      "Test Loss: 0.385 | Test Acc: 87.480% (8748/10000)\n",
      "Saving..\n",
      "\n",
      "Epoch: 65\n",
      "Train Loss: 0.274 | Train Acc: 90.670% (45335/50000)\n",
      "Test Loss: 0.466 | Test Acc: 85.230% (8523/10000)\n",
      "\n",
      "Epoch: 66\n",
      "Train Loss: 0.268 | Train Acc: 90.998% (45499/50000)\n",
      "Test Loss: 0.446 | Test Acc: 85.780% (8578/10000)\n",
      "\n",
      "Epoch: 67\n",
      "Train Loss: 0.266 | Train Acc: 90.964% (45482/50000)\n",
      "Test Loss: 0.546 | Test Acc: 82.220% (8222/10000)\n",
      "\n",
      "Epoch: 68\n",
      "Train Loss: 0.267 | Train Acc: 90.918% (45459/50000)\n",
      "Test Loss: 0.414 | Test Acc: 86.020% (8602/10000)\n",
      "\n",
      "Epoch: 69\n",
      "Train Loss: 0.263 | Train Acc: 90.904% (45452/50000)\n",
      "Test Loss: 0.459 | Test Acc: 85.500% (8550/10000)\n",
      "\n",
      "Epoch: 70\n",
      "Train Loss: 0.264 | Train Acc: 91.000% (45500/50000)\n",
      "Test Loss: 0.343 | Test Acc: 88.350% (8835/10000)\n",
      "Saving..\n",
      "\n",
      "Epoch: 71\n",
      "Train Loss: 0.251 | Train Acc: 91.294% (45647/50000)\n",
      "Test Loss: 0.371 | Test Acc: 87.540% (8754/10000)\n",
      "\n",
      "Epoch: 72\n",
      "Train Loss: 0.260 | Train Acc: 91.096% (45548/50000)\n",
      "Test Loss: 0.528 | Test Acc: 83.610% (8361/10000)\n",
      "\n",
      "Epoch: 73\n",
      "Train Loss: 0.253 | Train Acc: 91.302% (45651/50000)\n",
      "Test Loss: 0.401 | Test Acc: 87.030% (8703/10000)\n",
      "\n",
      "Epoch: 74\n",
      "Train Loss: 0.247 | Train Acc: 91.620% (45810/50000)\n",
      "Test Loss: 0.367 | Test Acc: 87.650% (8765/10000)\n",
      "\n",
      "Epoch: 75\n",
      "Train Loss: 0.254 | Train Acc: 91.218% (45609/50000)\n",
      "Test Loss: 0.404 | Test Acc: 86.960% (8696/10000)\n",
      "\n",
      "Epoch: 76\n",
      "Train Loss: 0.248 | Train Acc: 91.516% (45758/50000)\n",
      "Test Loss: 0.384 | Test Acc: 87.210% (8721/10000)\n",
      "\n",
      "Epoch: 77\n",
      "Train Loss: 0.245 | Train Acc: 91.714% (45857/50000)\n",
      "Test Loss: 0.469 | Test Acc: 85.410% (8541/10000)\n",
      "\n",
      "Epoch: 78\n",
      "Train Loss: 0.241 | Train Acc: 91.760% (45880/50000)\n",
      "Test Loss: 0.404 | Test Acc: 86.680% (8668/10000)\n",
      "\n",
      "Epoch: 79\n",
      "Train Loss: 0.244 | Train Acc: 91.700% (45850/50000)\n",
      "Test Loss: 0.675 | Test Acc: 79.810% (7981/10000)\n"
     ]
    },
    {
     "data": {
      "image/png": "[encoded data removed]",
      "text/plain": [
       "<Figure size 720x360 with 2 Axes>"
      ]
     },
     "metadata": {
      "needs_background": "light"
     },
     "output_type": "display_data"
    }
   ],
   "source": [
    "import matplotlib.pyplot as plt\n",
    "\n",
    "train_losses = []\n",
    "train_accs = []\n",
    "test_losses = []\n",
    "test_accs = []\n",
    "\n",
    "def train(epoch):\n",
    "    global train_losses, train_accs\n",
    "    print('\\nEpoch: %d' % epoch)\n",
    "    net.train()\n",
    "    train_loss = 0\n",
    "    correct = 0\n",
    "    total = 0\n",
    "    for batch_idx, (inputs, targets) in enumerate(trainloader):\n",
    "        inputs, targets = inputs.to(device), targets.to(device)\n",
    "        optimizer.zero_grad()\n",
    "        outputs = net(inputs)\n",
    "        loss = criterion(outputs, targets)\n",
    "        loss.backward()\n",
    "        optimizer.step()\n",
    "\n",
    "        train_loss += loss.item()\n",
    "        _, predicted = outputs.max(1)\n",
    "        total += targets.size(0)\n",
    "        correct += predicted.eq(targets).sum().item()\n",
    "\n",
    "    train_losses.append(train_loss/(batch_idx+1))\n",
    "    train_accs.append(100.*correct/total)\n",
    "    print('Train Loss: %.3f | Train Acc: %.3f%% (%d/%d)'% (train_losses[-1], train_accs[-1], correct, total))\n",
    "\n",
    "def test(epoch):\n",
    "    global best_acc, test_losses, test_accs\n",
    "    net.eval()\n",
    "    test_loss = 0\n",
    "    correct = 0\n",
    "    total = 0\n",
    "    with torch.no_grad():\n",
    "        for batch_idx, (inputs, targets) in enumerate(testloader):\n",
    "            inputs, targets = inputs.to(device), targets.to(device)\n",
    "            outputs = net(inputs)\n",
    "            loss = criterion(outputs, targets)\n",
    "\n",
    "            test_loss += loss.item()\n",
    "            _, predicted = outputs.max(1)\n",
    "            total += targets.size(0)\n",
    "            correct += predicted.eq(targets).sum().item()\n",
    "\n",
    "        test_losses.append(test_loss/(batch_idx+1))\n",
    "        test_accs.append(100.*correct/total)\n",
    "        print('Test Loss: %.3f | Test Acc: %.3f%% (%d/%d)'% (test_losses[-1], test_accs[-1], correct, total))\n",
    "\n",
    "        # Save checkpoint.\n",
    "        acc = 100.*correct/total\n",
    "        if acc > best_acc:\n",
    "            print('Saving..')\n",
    "            state = {\n",
    "                'net': net.state_dict(),\n",
    "                'acc': acc,\n",
    "                'epoch': epoch,\n",
    "            }\n",
    "            if not os.path.isdir('checkpoint'):\n",
    "                os.mkdir('checkpoint')\n",
    "            torch.save(state, './checkpoint/ckpt.pth')\n",
    "            best_acc = acc\n",
    "\n",
    "# Train and test the model for multiple epochs\n",
    "for epoch in range(start_epoch, 80):\n",
    "    train(epoch)\n",
    "    test(epoch)\n",
    "    scheduler.step()\n",
    "\n",
    "# Plot the training and testing curves\n",
    "plt.figure(figsize=(10,5))\n",
    "plt.subplot(1,2,1)\n",
    "plt.plot(train_losses,label='Train')\n",
    "plt.plot(test_losses,label='Test')\n",
    "plt.xlabel('Epoch')\n",
    "plt.ylabel('Loss')\n",
    "plt.legend()\n",
    "plt.subplot(1,2,2)\n",
    "plt.plot(train_accs,label='Train')\n",
    "plt.plot(test_accs,label='Test')\n",
    "plt.xlabel('Epoch')\n",
    "plt.ylabel('Accuracy')\n",
    "plt.legend()\n",
    "plt.show()"
   ]
  },
  {
   "cell_type": "code",
   "execution_count": null,
   "metadata": {
    "id": "6eFWRVKJzvP5"
   },
   "outputs": [],
   "source": []
  }
 ],
 "metadata": {
  "accelerator": "GPU",
  "colab": {
   "provenance": []
  },
  "gpuClass": "standard",
  "kernelspec": {
   "display_name": "Python 3",
   "language": "python",
   "name": "python3"
  },
  "language_info": {
   "codemirror_mode": {
    "name": "ipython",
    "version": 3
   },
   "file_extension": ".py",
   "mimetype": "text/x-python",
   "name": "python",
   "nbconvert_exporter": "python",
   "pygments_lexer": "ipython3",
   "version": "3.8.6"
  }
 },
 "nbformat": 4,
 "nbformat_minor": 1
}
