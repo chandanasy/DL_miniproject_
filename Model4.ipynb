{
 "cells": [
  {
   "cell_type": "markdown",
   "metadata": {
    "id": "6YqZd3YT8EKp"
   },
   "source": [
    "### Import Modules"
   ]
  },
  {
   "cell_type": "code",
   "execution_count": 1,
   "metadata": {
    "id": "ufMRWg9Ys-L_"
   },
   "outputs": [],
   "source": [
    "import torch\n",
    "import torch.nn as nn\n",
    "import torch.optim as optim\n",
    "from torchvision import datasets, models, transforms\n",
    "from torchsummary import summary\n",
    "import matplotlib.pyplot as plt\n",
    "import torch.nn.functional as F\n",
    "import torch.backends.cudnn as cudnn\n",
    "import os\n",
    "import sys\n",
    "import time"
   ]
  },
  {
   "cell_type": "markdown",
   "metadata": {
    "id": "LvrCwMES74W4"
   },
   "source": [
    "### Hardware Accelerator Check"
   ]
  },
  {
   "cell_type": "code",
   "execution_count": 2,
   "metadata": {
    "colab": {
     "base_uri": "https://localhost:8080/"
    },
    "id": "mjUFclRx78qk",
    "outputId": "5abbd97b-e63c-4a56-f541-0b352d2471af"
   },
   "outputs": [
    {
     "data": {
      "text/plain": [
       "True"
      ]
     },
     "execution_count": 2,
     "metadata": {},
     "output_type": "execute_result"
    }
   ],
   "source": [
    "torch.cuda.is_available()"
   ]
  },
  {
   "cell_type": "code",
   "execution_count": 3,
   "metadata": {
    "id": "Pg-WAkTVzo2Q"
   },
   "outputs": [],
   "source": [
    "device = 'cuda' if torch.cuda.is_available() else 'cpu'"
   ]
  },
  {
   "cell_type": "markdown",
   "metadata": {
    "id": "ACZiV7w89N0l"
   },
   "source": [
    "### Data Preparation"
   ]
  },
  {
   "cell_type": "code",
   "execution_count": 4,
   "metadata": {
    "id": "Xv5JdFPh-iSs"
   },
   "outputs": [],
   "source": [
    "# defining data transforms for train and test datasets\n",
    "\n",
    "transform_train = transforms.Compose([\n",
    "    transforms.RandomCrop(32, padding=4),\n",
    "    transforms.RandomHorizontalFlip(),\n",
    "    transforms.ToTensor(),\n",
    "    transforms.Normalize((0.4914, 0.4822, 0.4465), (0.2023, 0.1994, 0.2010)),\n",
    "])\n",
    "\n",
    "transform_test = transforms.Compose([\n",
    "    transforms.ToTensor(),\n",
    "    transforms.Normalize((0.4914, 0.4822, 0.4465), (0.2023, 0.1994, 0.2010)),\n",
    "])\n"
   ]
  },
  {
   "cell_type": "code",
   "execution_count": 5,
   "metadata": {
    "colab": {
     "base_uri": "https://localhost:8080/"
    },
    "id": "hpYR5mrD9R99",
    "outputId": "f8183453-42b0-4694-f0c9-be25b1a26baa"
   },
   "outputs": [
    {
     "name": "stdout",
     "output_type": "stream",
     "text": [
      "Files already downloaded and verified\n",
      "Files already downloaded and verified\n"
     ]
    }
   ],
   "source": [
    "# importing CIFAR10 train and test datasets\n",
    "\n",
    "trainset = datasets.CIFAR10(root='./data', train=True, download=True, transform=transform_train)\n",
    "\n",
    "testset = datasets.CIFAR10(root='./data', train=False, download=True, transform=transform_test)"
   ]
  },
  {
   "cell_type": "code",
   "execution_count": 6,
   "metadata": {
    "colab": {
     "base_uri": "https://localhost:8080/"
    },
    "id": "UwMYna8fAYG9",
    "outputId": "8520f613-716a-462c-c87d-d977005a6494"
   },
   "outputs": [
    {
     "data": {
      "text/plain": [
       "Dataset CIFAR10\n",
       "    Number of datapoints: 50000\n",
       "    Root location: ./data\n",
       "    Split: Train\n",
       "    StandardTransform\n",
       "Transform: Compose(\n",
       "               RandomCrop(size=(32, 32), padding=4)\n",
       "               RandomHorizontalFlip(p=0.5)\n",
       "               ToTensor()\n",
       "               Normalize(mean=(0.4914, 0.4822, 0.4465), std=(0.2023, 0.1994, 0.201))\n",
       "           )"
      ]
     },
     "execution_count": 6,
     "metadata": {},
     "output_type": "execute_result"
    }
   ],
   "source": [
    "# number of data points in train dataset\n",
    "\n",
    "trainset"
   ]
  },
  {
   "cell_type": "code",
   "execution_count": 7,
   "metadata": {
    "colab": {
     "base_uri": "https://localhost:8080/"
    },
    "id": "ZoCxJBHyBCNH",
    "outputId": "95c07616-af06-4afb-9e62-780fb152905b"
   },
   "outputs": [
    {
     "data": {
      "text/plain": [
       "Dataset CIFAR10\n",
       "    Number of datapoints: 10000\n",
       "    Root location: ./data\n",
       "    Split: Test\n",
       "    StandardTransform\n",
       "Transform: Compose(\n",
       "               ToTensor()\n",
       "               Normalize(mean=(0.4914, 0.4822, 0.4465), std=(0.2023, 0.1994, 0.201))\n",
       "           )"
      ]
     },
     "execution_count": 7,
     "metadata": {},
     "output_type": "execute_result"
    }
   ],
   "source": [
    "# number of data points in test dataset\n",
    "\n",
    "testset"
   ]
  },
  {
   "cell_type": "code",
   "execution_count": 8,
   "metadata": {
    "id": "fk708NCiBX7T"
   },
   "outputs": [],
   "source": [
    "# creating data loaders for train and test datasets\n",
    "\n",
    "trainloader = torch.utils.data.DataLoader(trainset, batch_size=512, shuffle=True, num_workers=2)\n",
    "\n",
    "testloader = torch.utils.data.DataLoader(testset, batch_size=256, shuffle=False, num_workers=2)\n"
   ]
  },
  {
   "cell_type": "code",
   "execution_count": 9,
   "metadata": {
    "colab": {
     "base_uri": "https://localhost:8080/"
    },
    "id": "h29ZWJm5DAuh",
    "outputId": "4eefd6ff-3251-42a5-c55d-f9d3bd178cc6"
   },
   "outputs": [
    {
     "data": {
      "text/plain": [
       "['airplane',\n",
       " 'automobile',\n",
       " 'bird',\n",
       " 'cat',\n",
       " 'deer',\n",
       " 'dog',\n",
       " 'frog',\n",
       " 'horse',\n",
       " 'ship',\n",
       " 'truck']"
      ]
     },
     "execution_count": 9,
     "metadata": {},
     "output_type": "execute_result"
    }
   ],
   "source": [
    "# The different classes in CIFAR10 dataset are\n",
    "\n",
    "trainset.classes"
   ]
  },
  {
   "cell_type": "markdown",
   "metadata": {
    "id": "EInXPW4McCbW"
   },
   "source": [
    "### ResNet18 NN Basic Block"
   ]
  },
  {
   "cell_type": "code",
   "execution_count": 10,
   "metadata": {
    "id": "F2qgIJrKdlBR"
   },
   "outputs": [],
   "source": [
    "# class BasicBlock(nn.Module):\n",
    "#     expansion = 1\n",
    "\n",
    "#     def __init__(self, in_channels, out_channels, stride = 1, conv_kernel_size = 3, skip_connection_kernel_size = 1):\n",
    "#         super(BasicBlock, self).__init__()\n",
    "#         self.conv1 = nn.Conv2d(in_channels, out_channels, kernel_size = conv_kernel_size, stride = stride, padding = 1, bias = False)\n",
    "#         self.bn1 = nn.BatchNorm2d(out_channels)\n",
    "#         self.conv2 = nn.Conv2d(out_channels, out_channels, kernel_size = conv_kernel_size, stride = 1, padding = 1, bias = False)\n",
    "#         self.bn2 = nn.BatchNorm2d(out_channels)\n",
    "\n",
    "#         self.shortcut = nn.Sequential()\n",
    "#         if stride != 1 or in_channels != self.expansion * out_channels:\n",
    "#             self.shortcut = nn.Sequential(\n",
    "#                 nn.Conv2d(in_channels, self.expansion * out_channels, kernel_size = skip_connection_kernel_size, stride = stride, bias = False),\n",
    "#                 nn.BatchNorm2d(self.expansion * out_channels)\n",
    "#             )\n",
    "\n",
    "#     def forward(self, x):\n",
    "#         out = F.relu(self.bn1(self.conv1(x)))\n",
    "#         out = self.bn2(self.conv2(out))\n",
    "#         out += self.shortcut(x)\n",
    "#         out = F.relu(out)\n",
    "#         return out"
   ]
  },
  {
   "cell_type": "markdown",
   "metadata": {
    "id": "Q426VQXygcsk"
   },
   "source": [
    "### ResNet18 Architecture"
   ]
  },
  {
   "cell_type": "code",
   "execution_count": 11,
   "metadata": {
    "id": "P0v523cAghUa"
   },
   "outputs": [],
   "source": [
    "# class ResNet(nn.Module):\n",
    "#     def __init__(self, block, num_blocks, channels, conv_kernel_size, skip_connection_kernel_size, avg_maxPool_size, num_classes = 10):\n",
    "#         super(ResNet, self).__init__()\n",
    "#         self.input = channels[0]\n",
    "#         self.conv_kernel_size = conv_kernel_size\n",
    "#         self.skip_connection_kernel_size = skip_connection_kernel_size\n",
    "#         self.avg_maxPool_size = avg_maxPool_size\n",
    "\n",
    "#         self.conv1 = nn.Conv2d(3, channels[0], kernel_size = 3, stride = 1, padding = 1, bias = False)\n",
    "#         self.bn1 = nn.BatchNorm2d(channels[0])\n",
    "#         self.layer1 = self._make_layer(block[0], channels[0], num_blocks[0], stride = 1)\n",
    "#         self.layer2 = self._make_layer(block[1], channels[1], num_blocks[1], stride = 2)\n",
    "#         self.layer3 = self._make_layer(block[2], channels[2], num_blocks[2], stride = 2)\n",
    "#         self.layer4 = self._make_layer(block[3], channels[3], num_blocks[3], stride = 2)\n",
    "#         self.linear = nn.Linear(channels[3] * block[3].expansion, num_classes)\n",
    "\n",
    "#     def _make_layer(self, block, out_channels, num_blocks, stride):\n",
    "#         strides = [stride] + [1]*(num_blocks-1)\n",
    "#         layers = []\n",
    "#         for stride in strides:\n",
    "#             layers.append(block(self.input, out_channels, stride, self.conv_kernel_size, self.skip_connection_kernel_size))\n",
    "#             self.input = out_channels * block.expansion\n",
    "#         return nn.Sequential(*layers)\n",
    "\n",
    "#     def forward(self, x):\n",
    "#         out = F.relu(self.bn1(self.conv1(x)))\n",
    "#         out = self.layer1(out)\n",
    "#         out = self.layer2(out)\n",
    "#         out = self.layer3(out)\n",
    "#         out = self.layer4(out)\n",
    "#         out = F.avg_pool2d(out, self.avg_maxPool_size)\n",
    "#         out = torch.flatten(out, 1)\n",
    "#         out = self.linear(out)\n",
    "#         return out\n",
    "\n",
    "# class BasicBlock(nn.Module):\n",
    "#     expansion = 1\n",
    "\n",
    "#     def __init__(self, in_channels, out_channels, stride=1, conv_kernel_size=3, skip_connection_kernel_size=1):\n",
    "#         super(BasicBlock, self).__init__()\n",
    "#         self.conv1 = nn.Conv2d(in_channels, out_channels, kernel_size=conv_kernel_size, stride=stride, padding=1, bias=False)\n",
    "#         self.bn1 = nn.BatchNorm2d(out_channels)\n",
    "#         self.conv2 = nn.Conv2d(out_channels, out_channels, kernel_size=conv_kernel_size, stride=1, padding=1, bias=False)\n",
    "#         self.bn2 = nn.BatchNorm2d(out_channels)\n",
    "\n",
    "#         self.shortcut = nn.Sequential()\n",
    "#         if stride != 1 or in_channels != self.expansion * out_channels:\n",
    "#             self.shortcut = nn.Sequential(\n",
    "#                 nn.Conv2d(in_channels, self.expansion * out_channels, kernel_size=skip_connection_kernel_size, stride=stride, bias=False),\n",
    "#                 nn.BatchNorm2d(self.expansion * out_channels)\n",
    "#             )\n",
    "\n",
    "#     def forward(self, x):\n",
    "#         out = F.leaky_relu(self.bn1(self.conv1(x)))\n",
    "#         out = self.bn2(self.conv2(out))\n",
    "#         out += self.shortcut(x)\n",
    "#         out = F.leaky_relu(out)\n",
    "#         return out\n",
    "\n",
    "# class ResNet(nn.Module):\n",
    "#     def __init__(self, block, num_blocks, channels, conv_kernel_size, skip_connection_kernel_size, avg_maxPool_size, num_classes=10):\n",
    "#         super(ResNet, self).__init__()\n",
    "#         self.input = channels[0]\n",
    "#         self.conv_kernel_size = conv_kernel_size\n",
    "#         self.skip_connection_kernel_size = skip_connection_kernel_size\n",
    "#         self.avg_maxPool_size = avg_maxPool_size\n",
    "\n",
    "#         self.conv1 = nn.Conv2d(3, channels[0], kernel_size=3, stride=1, padding=1, bias=False)\n",
    "#         self.bn1 = nn.BatchNorm2d(channels[0])\n",
    "#         self.layer1 = self._make_layer(block[0], channels[0], num_blocks[0], stride=1)\n",
    "#         self.layer2 = self._make_layer(block[1], channels[1], num_blocks[1], stride=2)\n",
    "#         self.layer3 = self._make_layer(block[2], channels[2], num_blocks[2], stride=2)\n",
    "#         self.layer4 = self._make_layer(block[3], channels[3], num_blocks[3], stride=2)\n",
    "#         self.linear = nn.Linear(channels[3] * block[3].expansion, num_classes)\n",
    "\n",
    "#     def _make_layer(self, block, out_channels, num_blocks, stride):\n",
    "#         strides = [stride] + [1] * (num_blocks - 1)\n",
    "#         layers = []\n",
    "#         for stride in strides:\n",
    "#             layers.append(block(self.input, out_channels, stride, self.conv_kernel_size, self.skip_connection_kernel_size))\n",
    "#             self.input = out_channels * block.expansion\n",
    "#         return nn.Sequential(*layers)\n",
    "\n",
    "#     def forward(self, x):\n",
    "#         out = F.leaky_relu(self.bn1(self.conv1(x)))\n",
    "#         out = self.layer1(out)\n",
    "#         out = self.layer2(out)\n",
    "#         out = self.layer3(out)\n",
    "#         out = self.layer4(out)\n",
    "#         out = F.avg_pool2d(out, self.avg_maxPool_size)\n",
    "#         out = torch.flatten(out, 1)\n",
    "#         out = self.linear(out)\n",
    "#         return out"
   ]
  },
  {
   "cell_type": "code",
   "execution_count": 12,
   "metadata": {},
   "outputs": [],
   "source": [
    "class BasicBlock(nn.Module):\n",
    "    expansion = 1\n",
    "\n",
    "    def __init__(self, in_channels, out_channels, stride=1, conv_kernel_size=3, skip_connection_kernel_size=1):\n",
    "        super(BasicBlock, self).__init__()\n",
    "        self.conv1 = nn.Conv2d(in_channels, out_channels, kernel_size=conv_kernel_size, stride=stride, padding=1, bias=False)\n",
    "        self.bn1 = nn.BatchNorm2d(out_channels)\n",
    "        self.conv2 = nn.Conv2d(out_channels, out_channels, kernel_size=conv_kernel_size, stride=1, padding=1, bias=False)\n",
    "        self.bn2 = nn.BatchNorm2d(out_channels)\n",
    "\n",
    "        self.shortcut = nn.Sequential()\n",
    "        if stride != 1 or in_channels != self.expansion * out_channels:\n",
    "            self.shortcut = nn.Sequential(\n",
    "                nn.Conv2d(in_channels, self.expansion * out_channels, kernel_size=skip_connection_kernel_size, stride=stride, bias=False),\n",
    "                nn.BatchNorm2d(self.expansion * out_channels)\n",
    "            )\n",
    "\n",
    "        self.dropout = nn.Dropout(p=0.2)\n",
    "\n",
    "\n",
    "    def forward(self, x):\n",
    "        out = F.leaky_relu(self.bn1(self.conv1(x)))\n",
    "        out = self.bn2(self.conv2(out))\n",
    "        out += self.shortcut(x)\n",
    "        out = F.leaky_relu(out)\n",
    "        out = self.dropout(out)\n",
    "        return out\n",
    "\n",
    "class ResNet(nn.Module):\n",
    "    def __init__(self, block, num_blocks, channels, conv_kernel_size, skip_connection_kernel_size, avg_maxPool_size, num_classes=10):\n",
    "        super(ResNet, self).__init__()\n",
    "        self.input = channels[0]\n",
    "        self.conv_kernel_size = conv_kernel_size\n",
    "        self.skip_connection_kernel_size = skip_connection_kernel_size\n",
    "        self.avg_maxPool_size = avg_maxPool_size\n",
    "\n",
    "        self.conv1 = nn.Conv2d(3, channels[0], kernel_size=3, stride=1, padding=1, bias=False)\n",
    "        self.bn1 = nn.BatchNorm2d(channels[0])\n",
    "        self.layer1 = self._make_layer(block[0], channels[0], num_blocks[0], stride=1)\n",
    "        self.layer2 = self._make_layer(block[1], channels[1], num_blocks[1], stride=2)\n",
    "        self.layer3 = self._make_layer(block[2], channels[2], num_blocks[2], stride=2)\n",
    "        self.layer4 = self._make_layer(block[3], channels[3], num_blocks[3], stride=2)\n",
    "        self.linear = nn.Linear(channels[3] * block[3].expansion, num_classes)\n",
    "\n",
    "    def _make_layer(self, block, out_channels, num_blocks, stride):\n",
    "        strides = [stride] + [1] * (num_blocks - 1)\n",
    "        layers = []\n",
    "        for stride in strides:\n",
    "            layers.append(block(self.input, out_channels, stride, self.conv_kernel_size, self.skip_connection_kernel_size))\n",
    "            self.input = out_channels * block.expansion\n",
    "        return nn.Sequential(*layers)\n",
    "\n",
    "    def forward(self, x):\n",
    "        out = F.leaky_relu(self.bn1(self.conv1(x)))\n",
    "        out = self.layer1(out)\n",
    "        out = self.layer2(out)\n",
    "        out = self.layer3(out)\n",
    "        out = self.layer4(out)\n",
    "        out = F.avg_pool2d(out, self.avg_maxPool_size)\n",
    "        out = torch.flatten(out, 1)\n",
    "        out = self.linear(out)\n",
    "        return out"
   ]
  },
  {
   "cell_type": "markdown",
   "metadata": {
    "id": "OLeaBXhHjhwf"
   },
   "source": [
    "### Initialize the Model"
   ]
  },
  {
   "cell_type": "code",
   "execution_count": 13,
   "metadata": {
    "id": "J7pxIGqijjz2"
   },
   "outputs": [
    {
     "name": "stdout",
     "output_type": "stream",
     "text": [
      "----------------------------------------------------------------\n",
      "        Layer (type)               Output Shape         Param #\n",
      "================================================================\n",
      "            Conv2d-1           [-1, 64, 32, 32]           1,728\n",
      "       BatchNorm2d-2           [-1, 64, 32, 32]             128\n",
      "            Conv2d-3           [-1, 64, 32, 32]          36,864\n",
      "       BatchNorm2d-4           [-1, 64, 32, 32]             128\n",
      "            Conv2d-5           [-1, 64, 32, 32]          36,864\n",
      "       BatchNorm2d-6           [-1, 64, 32, 32]             128\n",
      "           Dropout-7           [-1, 64, 32, 32]               0\n",
      "        BasicBlock-8           [-1, 64, 32, 32]               0\n",
      "            Conv2d-9           [-1, 64, 32, 32]          36,864\n",
      "      BatchNorm2d-10           [-1, 64, 32, 32]             128\n",
      "           Conv2d-11           [-1, 64, 32, 32]          36,864\n",
      "      BatchNorm2d-12           [-1, 64, 32, 32]             128\n",
      "          Dropout-13           [-1, 64, 32, 32]               0\n",
      "       BasicBlock-14           [-1, 64, 32, 32]               0\n",
      "           Conv2d-15          [-1, 128, 16, 16]          73,728\n",
      "      BatchNorm2d-16          [-1, 128, 16, 16]             256\n",
      "           Conv2d-17          [-1, 128, 16, 16]         147,456\n",
      "      BatchNorm2d-18          [-1, 128, 16, 16]             256\n",
      "           Conv2d-19          [-1, 128, 16, 16]           8,192\n",
      "      BatchNorm2d-20          [-1, 128, 16, 16]             256\n",
      "          Dropout-21          [-1, 128, 16, 16]               0\n",
      "       BasicBlock-22          [-1, 128, 16, 16]               0\n",
      "           Conv2d-23          [-1, 128, 16, 16]         147,456\n",
      "      BatchNorm2d-24          [-1, 128, 16, 16]             256\n",
      "           Conv2d-25          [-1, 128, 16, 16]         147,456\n",
      "      BatchNorm2d-26          [-1, 128, 16, 16]             256\n",
      "          Dropout-27          [-1, 128, 16, 16]               0\n",
      "       BasicBlock-28          [-1, 128, 16, 16]               0\n",
      "           Conv2d-29            [-1, 232, 8, 8]         267,264\n",
      "      BatchNorm2d-30            [-1, 232, 8, 8]             464\n",
      "           Conv2d-31            [-1, 232, 8, 8]         484,416\n",
      "      BatchNorm2d-32            [-1, 232, 8, 8]             464\n",
      "           Conv2d-33            [-1, 232, 8, 8]          29,696\n",
      "      BatchNorm2d-34            [-1, 232, 8, 8]             464\n",
      "          Dropout-35            [-1, 232, 8, 8]               0\n",
      "       BasicBlock-36            [-1, 232, 8, 8]               0\n",
      "           Conv2d-37            [-1, 232, 8, 8]         484,416\n",
      "      BatchNorm2d-38            [-1, 232, 8, 8]             464\n",
      "           Conv2d-39            [-1, 232, 8, 8]         484,416\n",
      "      BatchNorm2d-40            [-1, 232, 8, 8]             464\n",
      "          Dropout-41            [-1, 232, 8, 8]               0\n",
      "       BasicBlock-42            [-1, 232, 8, 8]               0\n",
      "           Conv2d-43            [-1, 268, 4, 4]         559,584\n",
      "      BatchNorm2d-44            [-1, 268, 4, 4]             536\n",
      "           Conv2d-45            [-1, 268, 4, 4]         646,416\n",
      "      BatchNorm2d-46            [-1, 268, 4, 4]             536\n",
      "           Conv2d-47            [-1, 268, 4, 4]          62,176\n",
      "      BatchNorm2d-48            [-1, 268, 4, 4]             536\n",
      "          Dropout-49            [-1, 268, 4, 4]               0\n",
      "       BasicBlock-50            [-1, 268, 4, 4]               0\n",
      "           Conv2d-51            [-1, 268, 4, 4]         646,416\n",
      "      BatchNorm2d-52            [-1, 268, 4, 4]             536\n",
      "           Conv2d-53            [-1, 268, 4, 4]         646,416\n",
      "      BatchNorm2d-54            [-1, 268, 4, 4]             536\n",
      "          Dropout-55            [-1, 268, 4, 4]               0\n",
      "       BasicBlock-56            [-1, 268, 4, 4]               0\n",
      "           Linear-57                   [-1, 10]           2,690\n",
      "================================================================\n",
      "Total params: 4,994,298\n",
      "Trainable params: 4,994,298\n",
      "Non-trainable params: 0\n",
      "----------------------------------------------------------------\n",
      "Input size (MB): 0.01\n",
      "Forward/backward pass size (MB): 12.54\n",
      "Params size (MB): 19.05\n",
      "Estimated Total Size (MB): 31.61\n",
      "----------------------------------------------------------------\n"
     ]
    }
   ],
   "source": [
    "net = ResNet([BasicBlock, BasicBlock, BasicBlock, BasicBlock], [2, 2, 2, 2], [64, 128, 232, 268], 3, 1, 4).to(device)  # Reaches ~80% within 5 epochs\n",
    "summary(net, input_size=(3,32,32))"
   ]
  },
  {
   "cell_type": "code",
   "execution_count": 14,
   "metadata": {
    "colab": {
     "base_uri": "https://localhost:8080/"
    },
    "id": "EvhKWuXTjzEZ",
    "outputId": "65d0a6ed-b8bb-475e-fb9e-0a74bf4e2d88"
   },
   "outputs": [
    {
     "name": "stdout",
     "output_type": "stream",
     "text": [
      "Device is set to CUDA\n"
     ]
    }
   ],
   "source": [
    "net = net.to(device)\n",
    "if device == 'cuda':\n",
    "    net = torch.nn.DataParallel(net)\n",
    "    cudnn.benchmark = True\n",
    "    print(\"Device is set to CUDA\")"
   ]
  },
  {
   "cell_type": "code",
   "execution_count": 15,
   "metadata": {
    "id": "dtC0jvf_kQYU"
   },
   "outputs": [],
   "source": [
    "best_acc = 0  # best test accuracy\n",
    "start_epoch = 0 # start from epoch 0 or last checkpoint epoch"
   ]
  },
  {
   "cell_type": "markdown",
   "metadata": {
    "id": "AcyhvqZfkuTh"
   },
   "source": [
    "### Define Optimizer"
   ]
  },
  {
   "cell_type": "code",
   "execution_count": 16,
   "metadata": {
    "id": "tY8PnX79kx6f"
   },
   "outputs": [],
   "source": [
    "criterion = nn.CrossEntropyLoss()\n",
    "\n",
    "optimizer = optim.SGD(net.parameters(), lr=0.1,\n",
    "                      momentum=0.9, weight_decay=5e-4)\n",
    "\n",
    "scheduler = torch.optim.lr_scheduler.CosineAnnealingLR(optimizer, T_max=200)"
   ]
  },
  {
   "cell_type": "markdown",
   "metadata": {
    "id": "LjZwX5IGlC6v"
   },
   "source": [
    "### Training"
   ]
  },
  {
   "cell_type": "code",
   "execution_count": 17,
   "metadata": {
    "id": "8mH6UrxulEb7"
   },
   "outputs": [],
   "source": [
    "# def train(epoch):\n",
    "#     print('\\nEpoch: %d' % epoch)\n",
    "#     net.train()\n",
    "#     train_loss = 0\n",
    "#     correct = 0\n",
    "#     total = 0\n",
    "#     for batch_idx, (inputs, targets) in enumerate(trainloader):\n",
    "#         inputs, targets = inputs.to(device), targets.to(device)\n",
    "#         optimizer.zero_grad()\n",
    "#         outputs = net(inputs)\n",
    "#         loss = criterion(outputs, targets)\n",
    "#         loss.backward()\n",
    "#         optimizer.step()\n",
    "\n",
    "#         train_loss += loss.item()\n",
    "#         _, predicted = outputs.max(1)\n",
    "#         total += targets.size(0)\n",
    "#         correct += predicted.eq(targets).sum().item()\n",
    "\n",
    "#     print('Train Loss: %.3f | Train Acc: %.3f%% (%d/%d)'% (train_loss/(batch_idx+1), 100.*correct/total, correct, total))"
   ]
  },
  {
   "cell_type": "markdown",
   "metadata": {
    "id": "PlaAGeTrlGZe"
   },
   "source": [
    "### Testing"
   ]
  },
  {
   "cell_type": "code",
   "execution_count": 18,
   "metadata": {
    "id": "yfc1pPlclHu1"
   },
   "outputs": [],
   "source": [
    "# def test(epoch):\n",
    "#     global best_acc\n",
    "#     net.eval()\n",
    "#     test_loss = 0\n",
    "#     correct = 0\n",
    "#     total = 0\n",
    "#     with torch.no_grad():\n",
    "#         for batch_idx, (inputs, targets) in enumerate(testloader):\n",
    "#             inputs, targets = inputs.to(device), targets.to(device)\n",
    "#             outputs = net(inputs)\n",
    "#             loss = criterion(outputs, targets)\n",
    "\n",
    "#             test_loss += loss.item()\n",
    "#             _, predicted = outputs.max(1)\n",
    "#             total += targets.size(0)\n",
    "#             correct += predicted.eq(targets).sum().item()\n",
    "\n",
    "#         print('Test Loss: %.3f | Test Acc: %.3f%% (%d/%d)'% (test_loss/(batch_idx+1), 100.*correct/total, correct, total))\n",
    "\n",
    "#     # Save checkpoint.\n",
    "#     acc = 100.*correct/total\n",
    "#     if acc > best_acc:\n",
    "#         print('Saving..')\n",
    "#         state = {\n",
    "#             'net': net.state_dict(),\n",
    "#             'acc': acc,\n",
    "#             'epoch': epoch,\n",
    "#         }\n",
    "#         if not os.path.isdir('checkpoint'):\n",
    "#             os.mkdir('checkpoint')\n",
    "#         torch.save(state, './checkpoint/ckpt.pth')\n",
    "#         best_acc = acc\n"
   ]
  },
  {
   "cell_type": "markdown",
   "metadata": {
    "id": "OwmJ6hWSpuy0"
   },
   "source": [
    "### Train and Evaluate"
   ]
  },
  {
   "cell_type": "code",
   "execution_count": 19,
   "metadata": {
    "colab": {
     "base_uri": "https://localhost:8080/"
    },
    "id": "VTKUBhizpzv7",
    "outputId": "25d8a8b5-9dfd-48e3-c693-dd99d8f00053"
   },
   "outputs": [
    {
     "name": "stdout",
     "output_type": "stream",
     "text": [
      "\n",
      "Epoch: 0\n",
      "Train Loss: 1.890 | Train Acc: 29.684% (14842/50000)\n",
      "Test Loss: 1.653 | Test Acc: 37.870% (3787/10000)\n",
      "Saving..\n",
      "\n",
      "Epoch: 1\n",
      "Train Loss: 1.426 | Train Acc: 46.998% (23499/50000)\n",
      "Test Loss: 1.442 | Test Acc: 49.320% (4932/10000)\n",
      "Saving..\n",
      "\n",
      "Epoch: 2\n",
      "Train Loss: 1.182 | Train Acc: 56.758% (28379/50000)\n",
      "Test Loss: 1.148 | Test Acc: 59.720% (5972/10000)\n",
      "Saving..\n",
      "\n",
      "Epoch: 3\n",
      "Train Loss: 1.021 | Train Acc: 63.256% (31628/50000)\n",
      "Test Loss: 1.122 | Test Acc: 62.710% (6271/10000)\n",
      "Saving..\n",
      "\n",
      "Epoch: 4\n",
      "Train Loss: 0.912 | Train Acc: 67.478% (33739/50000)\n",
      "Test Loss: 0.840 | Test Acc: 70.710% (7071/10000)\n",
      "Saving..\n",
      "\n",
      "Epoch: 5\n",
      "Train Loss: 0.806 | Train Acc: 71.626% (35813/50000)\n",
      "Test Loss: 0.994 | Test Acc: 67.430% (6743/10000)\n",
      "\n",
      "Epoch: 6\n",
      "Train Loss: 0.722 | Train Acc: 74.526% (37263/50000)\n",
      "Test Loss: 1.086 | Test Acc: 66.420% (6642/10000)\n",
      "\n",
      "Epoch: 7\n",
      "Train Loss: 0.654 | Train Acc: 77.216% (38608/50000)\n",
      "Test Loss: 0.730 | Test Acc: 76.440% (7644/10000)\n",
      "Saving..\n",
      "\n",
      "Epoch: 8\n",
      "Train Loss: 0.605 | Train Acc: 78.944% (39472/50000)\n",
      "Test Loss: 0.731 | Test Acc: 75.860% (7586/10000)\n",
      "\n",
      "Epoch: 9\n",
      "Train Loss: 0.556 | Train Acc: 80.714% (40357/50000)\n",
      "Test Loss: 0.599 | Test Acc: 79.970% (7997/10000)\n",
      "Saving..\n",
      "\n",
      "Epoch: 10\n",
      "Train Loss: 0.519 | Train Acc: 82.174% (41087/50000)\n",
      "Test Loss: 0.655 | Test Acc: 78.390% (7839/10000)\n",
      "\n",
      "Epoch: 11\n",
      "Train Loss: 0.496 | Train Acc: 82.884% (41442/50000)\n",
      "Test Loss: 0.646 | Test Acc: 78.580% (7858/10000)\n",
      "\n",
      "Epoch: 12\n",
      "Train Loss: 0.466 | Train Acc: 83.912% (41956/50000)\n",
      "Test Loss: 0.532 | Test Acc: 82.470% (8247/10000)\n",
      "Saving..\n",
      "\n",
      "Epoch: 13\n",
      "Train Loss: 0.442 | Train Acc: 84.656% (42328/50000)\n",
      "Test Loss: 0.501 | Test Acc: 83.060% (8306/10000)\n",
      "Saving..\n",
      "\n",
      "Epoch: 14\n",
      "Train Loss: 0.419 | Train Acc: 85.530% (42765/50000)\n",
      "Test Loss: 0.508 | Test Acc: 83.290% (8329/10000)\n",
      "Saving..\n",
      "\n",
      "Epoch: 15\n",
      "Train Loss: 0.398 | Train Acc: 86.208% (43104/50000)\n",
      "Test Loss: 0.778 | Test Acc: 77.230% (7723/10000)\n",
      "\n",
      "Epoch: 16\n",
      "Train Loss: 0.393 | Train Acc: 86.468% (43234/50000)\n",
      "Test Loss: 0.494 | Test Acc: 83.800% (8380/10000)\n",
      "Saving..\n",
      "\n",
      "Epoch: 17\n",
      "Train Loss: 0.374 | Train Acc: 87.110% (43555/50000)\n",
      "Test Loss: 0.609 | Test Acc: 80.680% (8068/10000)\n",
      "\n",
      "Epoch: 18\n",
      "Train Loss: 0.359 | Train Acc: 87.638% (43819/50000)\n",
      "Test Loss: 0.628 | Test Acc: 80.360% (8036/10000)\n",
      "\n",
      "Epoch: 19\n",
      "Train Loss: 0.345 | Train Acc: 88.078% (44039/50000)\n",
      "Test Loss: 0.422 | Test Acc: 85.870% (8587/10000)\n",
      "Saving..\n",
      "\n",
      "Epoch: 20\n",
      "Train Loss: 0.330 | Train Acc: 88.560% (44280/50000)\n",
      "Test Loss: 0.391 | Test Acc: 86.700% (8670/10000)\n",
      "Saving..\n",
      "\n",
      "Epoch: 21\n",
      "Train Loss: 0.323 | Train Acc: 88.898% (44449/50000)\n",
      "Test Loss: 0.595 | Test Acc: 81.230% (8123/10000)\n",
      "\n",
      "Epoch: 22\n",
      "Train Loss: 0.314 | Train Acc: 89.114% (44557/50000)\n",
      "Test Loss: 0.530 | Test Acc: 83.110% (8311/10000)\n",
      "\n",
      "Epoch: 23\n",
      "Train Loss: 0.310 | Train Acc: 89.372% (44686/50000)\n",
      "Test Loss: 0.454 | Test Acc: 85.570% (8557/10000)\n",
      "\n",
      "Epoch: 24\n",
      "Train Loss: 0.302 | Train Acc: 89.524% (44762/50000)\n",
      "Test Loss: 0.392 | Test Acc: 86.750% (8675/10000)\n",
      "Saving..\n",
      "\n",
      "Epoch: 25\n",
      "Train Loss: 0.292 | Train Acc: 89.874% (44937/50000)\n",
      "Test Loss: 0.388 | Test Acc: 87.150% (8715/10000)\n",
      "Saving..\n",
      "\n",
      "Epoch: 26\n",
      "Train Loss: 0.295 | Train Acc: 89.764% (44882/50000)\n",
      "Test Loss: 0.441 | Test Acc: 85.550% (8555/10000)\n",
      "\n",
      "Epoch: 27\n",
      "Train Loss: 0.283 | Train Acc: 90.338% (45169/50000)\n",
      "Test Loss: 0.429 | Test Acc: 85.860% (8586/10000)\n",
      "\n",
      "Epoch: 28\n",
      "Train Loss: 0.272 | Train Acc: 90.596% (45298/50000)\n",
      "Test Loss: 0.459 | Test Acc: 86.200% (8620/10000)\n",
      "\n",
      "Epoch: 29\n",
      "Train Loss: 0.268 | Train Acc: 90.806% (45403/50000)\n",
      "Test Loss: 0.381 | Test Acc: 87.590% (8759/10000)\n",
      "Saving..\n",
      "\n",
      "Epoch: 30\n",
      "Train Loss: 0.263 | Train Acc: 90.952% (45476/50000)\n",
      "Test Loss: 0.445 | Test Acc: 85.970% (8597/10000)\n",
      "\n",
      "Epoch: 31\n",
      "Train Loss: 0.260 | Train Acc: 90.992% (45496/50000)\n",
      "Test Loss: 0.403 | Test Acc: 87.000% (8700/10000)\n",
      "\n",
      "Epoch: 32\n",
      "Train Loss: 0.258 | Train Acc: 91.138% (45569/50000)\n",
      "Test Loss: 0.426 | Test Acc: 86.190% (8619/10000)\n",
      "\n",
      "Epoch: 33\n",
      "Train Loss: 0.251 | Train Acc: 91.322% (45661/50000)\n",
      "Test Loss: 0.405 | Test Acc: 86.700% (8670/10000)\n",
      "\n",
      "Epoch: 34\n",
      "Train Loss: 0.256 | Train Acc: 91.178% (45589/50000)\n",
      "Test Loss: 0.404 | Test Acc: 87.190% (8719/10000)\n",
      "\n",
      "Epoch: 35\n",
      "Train Loss: 0.251 | Train Acc: 91.292% (45646/50000)\n",
      "Test Loss: 0.479 | Test Acc: 84.450% (8445/10000)\n",
      "\n",
      "Epoch: 36\n",
      "Train Loss: 0.245 | Train Acc: 91.594% (45797/50000)\n",
      "Test Loss: 0.467 | Test Acc: 85.240% (8524/10000)\n",
      "\n",
      "Epoch: 37\n",
      "Train Loss: 0.240 | Train Acc: 91.616% (45808/50000)\n",
      "Test Loss: 0.374 | Test Acc: 87.960% (8796/10000)\n",
      "Saving..\n",
      "\n",
      "Epoch: 38\n",
      "Train Loss: 0.234 | Train Acc: 91.914% (45957/50000)\n",
      "Test Loss: 0.360 | Test Acc: 88.380% (8838/10000)\n",
      "Saving..\n",
      "\n",
      "Epoch: 39\n",
      "Train Loss: 0.238 | Train Acc: 91.810% (45905/50000)\n",
      "Test Loss: 0.333 | Test Acc: 88.980% (8898/10000)\n",
      "Saving..\n",
      "\n",
      "Epoch: 40\n",
      "Train Loss: 0.227 | Train Acc: 92.262% (46131/50000)\n",
      "Test Loss: 0.356 | Test Acc: 88.620% (8862/10000)\n",
      "\n",
      "Epoch: 41\n",
      "Train Loss: 0.229 | Train Acc: 92.062% (46031/50000)\n",
      "Test Loss: 0.397 | Test Acc: 87.780% (8778/10000)\n",
      "\n",
      "Epoch: 42\n",
      "Train Loss: 0.223 | Train Acc: 92.360% (46180/50000)\n",
      "Test Loss: 0.488 | Test Acc: 84.890% (8489/10000)\n",
      "\n",
      "Epoch: 43\n",
      "Train Loss: 0.221 | Train Acc: 92.332% (46166/50000)\n",
      "Test Loss: 0.345 | Test Acc: 89.310% (8931/10000)\n",
      "Saving..\n",
      "\n",
      "Epoch: 44\n",
      "Train Loss: 0.216 | Train Acc: 92.600% (46300/50000)\n",
      "Test Loss: 0.351 | Test Acc: 89.210% (8921/10000)\n",
      "\n",
      "Epoch: 45\n",
      "Train Loss: 0.219 | Train Acc: 92.428% (46214/50000)\n",
      "Test Loss: 0.366 | Test Acc: 88.430% (8843/10000)\n",
      "\n",
      "Epoch: 46\n",
      "Train Loss: 0.210 | Train Acc: 92.712% (46356/50000)\n",
      "Test Loss: 0.360 | Test Acc: 88.460% (8846/10000)\n",
      "\n",
      "Epoch: 47\n",
      "Train Loss: 0.215 | Train Acc: 92.676% (46338/50000)\n",
      "Test Loss: 0.428 | Test Acc: 86.680% (8668/10000)\n",
      "\n",
      "Epoch: 48\n",
      "Train Loss: 0.207 | Train Acc: 92.902% (46451/50000)\n",
      "Test Loss: 0.315 | Test Acc: 89.840% (8984/10000)\n",
      "Saving..\n",
      "\n",
      "Epoch: 49\n",
      "Train Loss: 0.204 | Train Acc: 92.920% (46460/50000)\n",
      "Test Loss: 0.436 | Test Acc: 87.110% (8711/10000)\n",
      "\n",
      "Epoch: 50\n",
      "Train Loss: 0.209 | Train Acc: 92.738% (46369/50000)\n",
      "Test Loss: 0.312 | Test Acc: 90.190% (9019/10000)\n",
      "Saving..\n",
      "\n",
      "Epoch: 51\n",
      "Train Loss: 0.200 | Train Acc: 93.114% (46557/50000)\n",
      "Test Loss: 0.328 | Test Acc: 89.370% (8937/10000)\n",
      "\n",
      "Epoch: 52\n",
      "Train Loss: 0.199 | Train Acc: 93.006% (46503/50000)\n",
      "Test Loss: 0.403 | Test Acc: 87.990% (8799/10000)\n",
      "\n",
      "Epoch: 53\n",
      "Train Loss: 0.193 | Train Acc: 93.332% (46666/50000)\n",
      "Test Loss: 0.297 | Test Acc: 90.100% (9010/10000)\n",
      "\n",
      "Epoch: 54\n",
      "Train Loss: 0.188 | Train Acc: 93.518% (46759/50000)\n",
      "Test Loss: 0.335 | Test Acc: 89.770% (8977/10000)\n",
      "\n",
      "Epoch: 55\n",
      "Train Loss: 0.187 | Train Acc: 93.538% (46769/50000)\n",
      "Test Loss: 0.386 | Test Acc: 88.050% (8805/10000)\n",
      "\n",
      "Epoch: 56\n",
      "Train Loss: 0.189 | Train Acc: 93.442% (46721/50000)\n",
      "Test Loss: 0.435 | Test Acc: 86.330% (8633/10000)\n",
      "\n",
      "Epoch: 57\n",
      "Train Loss: 0.191 | Train Acc: 93.428% (46714/50000)\n",
      "Test Loss: 0.350 | Test Acc: 89.670% (8967/10000)\n",
      "\n",
      "Epoch: 58\n",
      "Train Loss: 0.182 | Train Acc: 93.682% (46841/50000)\n",
      "Test Loss: 0.331 | Test Acc: 89.900% (8990/10000)\n",
      "\n",
      "Epoch: 59\n",
      "Train Loss: 0.179 | Train Acc: 93.782% (46891/50000)\n",
      "Test Loss: 0.310 | Test Acc: 89.980% (8998/10000)\n",
      "\n",
      "Epoch: 60\n",
      "Train Loss: 0.183 | Train Acc: 93.732% (46866/50000)\n",
      "Test Loss: 0.339 | Test Acc: 89.430% (8943/10000)\n",
      "\n",
      "Epoch: 61\n",
      "Train Loss: 0.180 | Train Acc: 93.808% (46904/50000)\n",
      "Test Loss: 0.418 | Test Acc: 87.450% (8745/10000)\n",
      "\n",
      "Epoch: 62\n",
      "Train Loss: 0.177 | Train Acc: 93.936% (46968/50000)\n",
      "Test Loss: 0.352 | Test Acc: 88.650% (8865/10000)\n",
      "\n",
      "Epoch: 63\n",
      "Train Loss: 0.171 | Train Acc: 94.072% (47036/50000)\n",
      "Test Loss: 0.313 | Test Acc: 90.030% (9003/10000)\n",
      "\n",
      "Epoch: 64\n",
      "Train Loss: 0.167 | Train Acc: 94.248% (47124/50000)\n",
      "Test Loss: 0.313 | Test Acc: 90.290% (9029/10000)\n",
      "Saving..\n",
      "\n",
      "Epoch: 65\n",
      "Train Loss: 0.168 | Train Acc: 94.220% (47110/50000)\n",
      "Test Loss: 0.352 | Test Acc: 89.450% (8945/10000)\n",
      "\n",
      "Epoch: 66\n",
      "Train Loss: 0.167 | Train Acc: 94.306% (47153/50000)\n",
      "Test Loss: 0.351 | Test Acc: 89.400% (8940/10000)\n",
      "\n",
      "Epoch: 67\n",
      "Train Loss: 0.172 | Train Acc: 94.094% (47047/50000)\n",
      "Test Loss: 0.384 | Test Acc: 88.320% (8832/10000)\n",
      "\n",
      "Epoch: 68\n",
      "Train Loss: 0.172 | Train Acc: 93.972% (46986/50000)\n",
      "Test Loss: 0.315 | Test Acc: 90.260% (9026/10000)\n",
      "\n",
      "Epoch: 69\n",
      "Train Loss: 0.160 | Train Acc: 94.506% (47253/50000)\n",
      "Test Loss: 0.313 | Test Acc: 90.740% (9074/10000)\n",
      "Saving..\n",
      "\n",
      "Epoch: 70\n",
      "Train Loss: 0.162 | Train Acc: 94.432% (47216/50000)\n",
      "Test Loss: 0.354 | Test Acc: 89.270% (8927/10000)\n",
      "\n",
      "Epoch: 71\n",
      "Train Loss: 0.156 | Train Acc: 94.674% (47337/50000)\n",
      "Test Loss: 0.413 | Test Acc: 88.070% (8807/10000)\n",
      "\n",
      "Epoch: 72\n",
      "Train Loss: 0.161 | Train Acc: 94.412% (47206/50000)\n",
      "Test Loss: 0.313 | Test Acc: 90.470% (9047/10000)\n",
      "\n",
      "Epoch: 73\n",
      "Train Loss: 0.152 | Train Acc: 94.852% (47426/50000)\n",
      "Test Loss: 0.331 | Test Acc: 89.970% (8997/10000)\n",
      "\n",
      "Epoch: 74\n",
      "Train Loss: 0.152 | Train Acc: 94.688% (47344/50000)\n",
      "Test Loss: 0.346 | Test Acc: 89.820% (8982/10000)\n",
      "\n",
      "Epoch: 75\n",
      "Train Loss: 0.155 | Train Acc: 94.640% (47320/50000)\n",
      "Test Loss: 0.275 | Test Acc: 91.480% (9148/10000)\n",
      "Saving..\n",
      "\n",
      "Epoch: 76\n",
      "Train Loss: 0.147 | Train Acc: 95.014% (47507/50000)\n",
      "Test Loss: 0.337 | Test Acc: 90.080% (9008/10000)\n",
      "\n",
      "Epoch: 77\n",
      "Train Loss: 0.146 | Train Acc: 94.932% (47466/50000)\n",
      "Test Loss: 0.378 | Test Acc: 88.910% (8891/10000)\n",
      "\n",
      "Epoch: 78\n",
      "Train Loss: 0.146 | Train Acc: 94.932% (47466/50000)\n",
      "Test Loss: 0.342 | Test Acc: 90.090% (9009/10000)\n",
      "\n",
      "Epoch: 79\n",
      "Train Loss: 0.139 | Train Acc: 95.128% (47564/50000)\n",
      "Test Loss: 0.311 | Test Acc: 90.050% (9005/10000)\n"
     ]
    },
    {
     "data": {
      "image/png": "[encoded data removed]",
      "text/plain": [
       "<Figure size 720x360 with 2 Axes>"
      ]
     },
     "metadata": {
      "needs_background": "light"
     },
     "output_type": "display_data"
    }
   ],
   "source": [
    "import matplotlib.pyplot as plt\n",
    "\n",
    "train_losses = []\n",
    "train_accs = []\n",
    "test_losses = []\n",
    "test_accs = []\n",
    "\n",
    "def train(epoch):\n",
    "    global train_losses, train_accs\n",
    "    print('\\nEpoch: %d' % epoch)\n",
    "    net.train()\n",
    "    train_loss = 0\n",
    "    correct = 0\n",
    "    total = 0\n",
    "    for batch_idx, (inputs, targets) in enumerate(trainloader):\n",
    "        inputs, targets = inputs.to(device), targets.to(device)\n",
    "        optimizer.zero_grad()\n",
    "        outputs = net(inputs)\n",
    "        loss = criterion(outputs, targets)\n",
    "        loss.backward()\n",
    "        optimizer.step()\n",
    "\n",
    "        train_loss += loss.item()\n",
    "        _, predicted = outputs.max(1)\n",
    "        total += targets.size(0)\n",
    "        correct += predicted.eq(targets).sum().item()\n",
    "\n",
    "    train_losses.append(train_loss/(batch_idx+1))\n",
    "    train_accs.append(100.*correct/total)\n",
    "    print('Train Loss: %.3f | Train Acc: %.3f%% (%d/%d)'% (train_losses[-1], train_accs[-1], correct, total))\n",
    "\n",
    "def test(epoch):\n",
    "    global best_acc, test_losses, test_accs\n",
    "    net.eval()\n",
    "    test_loss = 0\n",
    "    correct = 0\n",
    "    total = 0\n",
    "    with torch.no_grad():\n",
    "        for batch_idx, (inputs, targets) in enumerate(testloader):\n",
    "            inputs, targets = inputs.to(device), targets.to(device)\n",
    "            outputs = net(inputs)\n",
    "            loss = criterion(outputs, targets)\n",
    "\n",
    "            test_loss += loss.item()\n",
    "            _, predicted = outputs.max(1)\n",
    "            total += targets.size(0)\n",
    "            correct += predicted.eq(targets).sum().item()\n",
    "\n",
    "        test_losses.append(test_loss/(batch_idx+1))\n",
    "        test_accs.append(100.*correct/total)\n",
    "        print('Test Loss: %.3f | Test Acc: %.3f%% (%d/%d)'% (test_losses[-1], test_accs[-1], correct, total))\n",
    "\n",
    "        # Save checkpoint.\n",
    "        acc = 100.*correct/total\n",
    "        if acc > best_acc:\n",
    "            print('Saving..')\n",
    "            state = {\n",
    "                'net': net.state_dict(),\n",
    "                'acc': acc,\n",
    "                'epoch': epoch,\n",
    "            }\n",
    "            if not os.path.isdir('checkpoint'):\n",
    "                os.mkdir('checkpoint')\n",
    "            torch.save(state, './checkpoint/model4.pth')\n",
    "            best_acc = acc\n",
    "\n",
    "# Train and test the model for multiple epochs\n",
    "for epoch in range(start_epoch, 80):\n",
    "    train(epoch)\n",
    "    test(epoch)\n",
    "    scheduler.step()\n",
    "\n",
    "# Plot the training and testing curves\n",
    "plt.figure(figsize=(10,5))\n",
    "plt.subplot(1,2,1)\n",
    "plt.plot(train_losses,label='Train')\n",
    "plt.plot(test_losses,label='Test')\n",
    "plt.xlabel('Epoch')\n",
    "plt.ylabel('Loss')\n",
    "plt.legend()\n",
    "plt.subplot(1,2,2)\n",
    "plt.plot(train_accs,label='Train')\n",
    "plt.plot(test_accs,label='Test')\n",
    "plt.xlabel('Epoch')\n",
    "plt.ylabel('Accuracy')\n",
    "plt.legend()\n",
    "plt.show()"
   ]
  },
  {
   "cell_type": "code",
   "execution_count": null,
   "metadata": {
    "id": "6eFWRVKJzvP5"
   },
   "outputs": [],
   "source": []
  }
 ],
 "metadata": {
  "accelerator": "GPU",
  "colab": {
   "provenance": []
  },
  "gpuClass": "standard",
  "kernelspec": {
   "display_name": "Python 3",
   "language": "python",
   "name": "python3"
  },
  "language_info": {
   "codemirror_mode": {
    "name": "ipython",
    "version": 3
   },
   "file_extension": ".py",
   "mimetype": "text/x-python",
   "name": "python",
   "nbconvert_exporter": "python",
   "pygments_lexer": "ipython3",
   "version": "3.8.6"
  }
 },
 "nbformat": 4,
 "nbformat_minor": 1
}
