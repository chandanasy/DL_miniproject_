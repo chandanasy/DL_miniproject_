{
 "cells": [
  {
   "cell_type": "markdown",
   "metadata": {
    "id": "6YqZd3YT8EKp"
   },
   "source": [
    "### Import Modules"
   ]
  },
  {
   "cell_type": "code",
   "execution_count": 18,
   "metadata": {
    "id": "ufMRWg9Ys-L_"
   },
   "outputs": [],
   "source": [
    "import torch\n",
    "import torch.nn as nn\n",
    "import torch.optim as optim\n",
    "from torchvision import datasets, models, transforms\n",
    "from torchsummary import summary\n",
    "import matplotlib.pyplot as plt\n",
    "import torch.nn.functional as F\n",
    "import torch.backends.cudnn as cudnn\n",
    "import os\n",
    "import sys\n",
    "import time"
   ]
  },
  {
   "cell_type": "markdown",
   "metadata": {
    "id": "LvrCwMES74W4"
   },
   "source": [
    "### Hardware Accelerator Check"
   ]
  },
  {
   "cell_type": "code",
   "execution_count": 19,
   "metadata": {
    "colab": {
     "base_uri": "https://localhost:8080/"
    },
    "id": "mjUFclRx78qk",
    "outputId": "5abbd97b-e63c-4a56-f541-0b352d2471af"
   },
   "outputs": [
    {
     "data": {
      "text/plain": [
       "True"
      ]
     },
     "execution_count": 19,
     "metadata": {},
     "output_type": "execute_result"
    }
   ],
   "source": [
    "torch.cuda.is_available()"
   ]
  },
  {
   "cell_type": "code",
   "execution_count": 20,
   "metadata": {
    "id": "Pg-WAkTVzo2Q"
   },
   "outputs": [],
   "source": [
    "device = 'cuda' if torch.cuda.is_available() else 'cpu'"
   ]
  },
  {
   "cell_type": "markdown",
   "metadata": {
    "id": "ACZiV7w89N0l"
   },
   "source": [
    "### Data Preparation"
   ]
  },
  {
   "cell_type": "code",
   "execution_count": 21,
   "metadata": {
    "id": "Xv5JdFPh-iSs"
   },
   "outputs": [],
   "source": [
    "# defining data transforms for train and test datasets\n",
    "\n",
    "transform_train = transforms.Compose([\n",
    "    transforms.RandomCrop(32, padding=4),\n",
    "    transforms.RandomHorizontalFlip(),\n",
    "    transforms.ToTensor(),\n",
    "    transforms.Normalize((0.4914, 0.4822, 0.4465), (0.2023, 0.1994, 0.2010)),\n",
    "])\n",
    "\n",
    "transform_test = transforms.Compose([\n",
    "    transforms.ToTensor(),\n",
    "    transforms.Normalize((0.4914, 0.4822, 0.4465), (0.2023, 0.1994, 0.2010)),\n",
    "])\n"
   ]
  },
  {
   "cell_type": "code",
   "execution_count": 22,
   "metadata": {
    "colab": {
     "base_uri": "https://localhost:8080/"
    },
    "id": "hpYR5mrD9R99",
    "outputId": "f8183453-42b0-4694-f0c9-be25b1a26baa"
   },
   "outputs": [
    {
     "name": "stdout",
     "output_type": "stream",
     "text": [
      "Files already downloaded and verified\n",
      "Files already downloaded and verified\n"
     ]
    }
   ],
   "source": [
    "# importing CIFAR10 train and test datasets\n",
    "\n",
    "trainset = datasets.CIFAR10(root='./data', train=True, download=True, transform=transform_train)\n",
    "\n",
    "testset = datasets.CIFAR10(root='./data', train=False, download=True, transform=transform_test)"
   ]
  },
  {
   "cell_type": "code",
   "execution_count": 23,
   "metadata": {
    "colab": {
     "base_uri": "https://localhost:8080/"
    },
    "id": "UwMYna8fAYG9",
    "outputId": "8520f613-716a-462c-c87d-d977005a6494"
   },
   "outputs": [
    {
     "data": {
      "text/plain": [
       "Dataset CIFAR10\n",
       "    Number of datapoints: 50000\n",
       "    Root location: ./data\n",
       "    Split: Train\n",
       "    StandardTransform\n",
       "Transform: Compose(\n",
       "               RandomCrop(size=(32, 32), padding=4)\n",
       "               RandomHorizontalFlip(p=0.5)\n",
       "               ToTensor()\n",
       "               Normalize(mean=(0.4914, 0.4822, 0.4465), std=(0.2023, 0.1994, 0.201))\n",
       "           )"
      ]
     },
     "execution_count": 23,
     "metadata": {},
     "output_type": "execute_result"
    }
   ],
   "source": [
    "# number of data points in train dataset\n",
    "\n",
    "trainset"
   ]
  },
  {
   "cell_type": "code",
   "execution_count": 24,
   "metadata": {
    "colab": {
     "base_uri": "https://localhost:8080/"
    },
    "id": "ZoCxJBHyBCNH",
    "outputId": "95c07616-af06-4afb-9e62-780fb152905b"
   },
   "outputs": [
    {
     "data": {
      "text/plain": [
       "Dataset CIFAR10\n",
       "    Number of datapoints: 10000\n",
       "    Root location: ./data\n",
       "    Split: Test\n",
       "    StandardTransform\n",
       "Transform: Compose(\n",
       "               ToTensor()\n",
       "               Normalize(mean=(0.4914, 0.4822, 0.4465), std=(0.2023, 0.1994, 0.201))\n",
       "           )"
      ]
     },
     "execution_count": 24,
     "metadata": {},
     "output_type": "execute_result"
    }
   ],
   "source": [
    "# number of data points in test dataset\n",
    "\n",
    "testset"
   ]
  },
  {
   "cell_type": "code",
   "execution_count": 25,
   "metadata": {
    "id": "fk708NCiBX7T"
   },
   "outputs": [],
   "source": [
    "# creating data loaders for train and test datasets\n",
    "\n",
    "trainloader = torch.utils.data.DataLoader(trainset, batch_size=512, shuffle=True, num_workers=2)\n",
    "\n",
    "testloader = torch.utils.data.DataLoader(testset, batch_size=256, shuffle=False, num_workers=2)\n"
   ]
  },
  {
   "cell_type": "code",
   "execution_count": 26,
   "metadata": {
    "colab": {
     "base_uri": "https://localhost:8080/"
    },
    "id": "h29ZWJm5DAuh",
    "outputId": "4eefd6ff-3251-42a5-c55d-f9d3bd178cc6"
   },
   "outputs": [
    {
     "data": {
      "text/plain": [
       "['airplane',\n",
       " 'automobile',\n",
       " 'bird',\n",
       " 'cat',\n",
       " 'deer',\n",
       " 'dog',\n",
       " 'frog',\n",
       " 'horse',\n",
       " 'ship',\n",
       " 'truck']"
      ]
     },
     "execution_count": 26,
     "metadata": {},
     "output_type": "execute_result"
    }
   ],
   "source": [
    "# The different classes in CIFAR10 dataset are\n",
    "\n",
    "trainset.classes"
   ]
  },
  {
   "cell_type": "markdown",
   "metadata": {
    "id": "EInXPW4McCbW"
   },
   "source": [
    "### ResNet18 NN Basic Block"
   ]
  },
  {
   "cell_type": "code",
   "execution_count": 27,
   "metadata": {
    "id": "F2qgIJrKdlBR"
   },
   "outputs": [],
   "source": [
    "class BasicBlock(nn.Module):\n",
    "    expansion = 1\n",
    "\n",
    "    def __init__(self, in_channels, out_channels, stride = 1, conv_kernel_size = 3, skip_connection_kernel_size = 1):\n",
    "        super(BasicBlock, self).__init__()\n",
    "        self.conv1 = nn.Conv2d(in_channels, out_channels, kernel_size = conv_kernel_size, stride = stride, padding = 1, bias = False)\n",
    "        self.bn1 = nn.BatchNorm2d(out_channels)\n",
    "        self.conv2 = nn.Conv2d(out_channels, out_channels, kernel_size = conv_kernel_size, stride = 1, padding = 1, bias = False)\n",
    "        self.bn2 = nn.BatchNorm2d(out_channels)\n",
    "\n",
    "        self.shortcut = nn.Sequential()\n",
    "        if stride != 1 or in_channels != self.expansion * out_channels:\n",
    "            self.shortcut = nn.Sequential(\n",
    "                nn.Conv2d(in_channels, self.expansion * out_channels, kernel_size = skip_connection_kernel_size, stride = stride, bias = False),\n",
    "                nn.BatchNorm2d(self.expansion * out_channels)\n",
    "            )\n",
    "\n",
    "    def forward(self, x):\n",
    "        out = F.relu(self.bn1(self.conv1(x)))\n",
    "        out = self.bn2(self.conv2(out))\n",
    "        out += self.shortcut(x)\n",
    "        out = F.relu(out)\n",
    "        return out"
   ]
  },
  {
   "cell_type": "markdown",
   "metadata": {
    "id": "Q426VQXygcsk"
   },
   "source": [
    "### ResNet18 Architecture"
   ]
  },
  {
   "cell_type": "code",
   "execution_count": 28,
   "metadata": {
    "id": "P0v523cAghUa"
   },
   "outputs": [],
   "source": [
    "class ResNet(nn.Module):\n",
    "    def __init__(self, block, num_blocks, channels, conv_kernel_size, skip_connection_kernel_size, avg_maxPool_size, num_classes = 10):\n",
    "        super(ResNet, self).__init__()\n",
    "        self.input = channels[0]\n",
    "        self.conv_kernel_size = conv_kernel_size\n",
    "        self.skip_connection_kernel_size = skip_connection_kernel_size\n",
    "        self.avg_maxPool_size = avg_maxPool_size\n",
    "\n",
    "        self.conv1 = nn.Conv2d(3, channels[0], kernel_size = 3, stride = 1, padding = 1, bias = False)\n",
    "        self.bn1 = nn.BatchNorm2d(channels[0])\n",
    "        self.layer1 = self._make_layer(block[0], channels[0], num_blocks[0], stride = 1)\n",
    "        self.layer2 = self._make_layer(block[1], channels[1], num_blocks[1], stride = 2)\n",
    "        self.layer3 = self._make_layer(block[2], channels[2], num_blocks[2], stride = 2)\n",
    "        self.layer4 = self._make_layer(block[3], channels[3], num_blocks[3], stride = 2)\n",
    "        self.linear = nn.Linear(channels[3] * block[3].expansion, num_classes)\n",
    "\n",
    "    def _make_layer(self, block, out_channels, num_blocks, stride):\n",
    "        strides = [stride] + [1]*(num_blocks-1)\n",
    "        layers = []\n",
    "        for stride in strides:\n",
    "            layers.append(block(self.input, out_channels, stride, self.conv_kernel_size, self.skip_connection_kernel_size))\n",
    "            self.input = out_channels * block.expansion\n",
    "        return nn.Sequential(*layers)\n",
    "\n",
    "    def forward(self, x):\n",
    "        out = F.relu(self.bn1(self.conv1(x)))\n",
    "        out = self.layer1(out)\n",
    "        out = self.layer2(out)\n",
    "        out = self.layer3(out)\n",
    "        out = self.layer4(out)\n",
    "        out = F.avg_pool2d(out, self.avg_maxPool_size)\n",
    "        out = torch.flatten(out, 1)\n",
    "        out = self.linear(out)\n",
    "        return out"
   ]
  },
  {
   "cell_type": "markdown",
   "metadata": {
    "id": "OLeaBXhHjhwf"
   },
   "source": [
    "### Initialize the Model"
   ]
  },
  {
   "cell_type": "code",
   "execution_count": 29,
   "metadata": {
    "id": "J7pxIGqijjz2"
   },
   "outputs": [
    {
     "name": "stdout",
     "output_type": "stream",
     "text": [
      "----------------------------------------------------------------\n",
      "        Layer (type)               Output Shape         Param #\n",
      "================================================================\n",
      "            Conv2d-1           [-1, 64, 32, 32]           1,728\n",
      "       BatchNorm2d-2           [-1, 64, 32, 32]             128\n",
      "            Conv2d-3           [-1, 64, 32, 32]          36,864\n",
      "       BatchNorm2d-4           [-1, 64, 32, 32]             128\n",
      "            Conv2d-5           [-1, 64, 32, 32]          36,864\n",
      "       BatchNorm2d-6           [-1, 64, 32, 32]             128\n",
      "        BasicBlock-7           [-1, 64, 32, 32]               0\n",
      "            Conv2d-8           [-1, 64, 32, 32]          36,864\n",
      "       BatchNorm2d-9           [-1, 64, 32, 32]             128\n",
      "           Conv2d-10           [-1, 64, 32, 32]          36,864\n",
      "      BatchNorm2d-11           [-1, 64, 32, 32]             128\n",
      "       BasicBlock-12           [-1, 64, 32, 32]               0\n",
      "           Conv2d-13          [-1, 128, 16, 16]          73,728\n",
      "      BatchNorm2d-14          [-1, 128, 16, 16]             256\n",
      "           Conv2d-15          [-1, 128, 16, 16]         147,456\n",
      "      BatchNorm2d-16          [-1, 128, 16, 16]             256\n",
      "           Conv2d-17          [-1, 128, 16, 16]           8,192\n",
      "      BatchNorm2d-18          [-1, 128, 16, 16]             256\n",
      "       BasicBlock-19          [-1, 128, 16, 16]               0\n",
      "           Conv2d-20          [-1, 128, 16, 16]         147,456\n",
      "      BatchNorm2d-21          [-1, 128, 16, 16]             256\n",
      "           Conv2d-22          [-1, 128, 16, 16]         147,456\n",
      "      BatchNorm2d-23          [-1, 128, 16, 16]             256\n",
      "       BasicBlock-24          [-1, 128, 16, 16]               0\n",
      "           Conv2d-25            [-1, 232, 8, 8]         267,264\n",
      "      BatchNorm2d-26            [-1, 232, 8, 8]             464\n",
      "           Conv2d-27            [-1, 232, 8, 8]         484,416\n",
      "      BatchNorm2d-28            [-1, 232, 8, 8]             464\n",
      "           Conv2d-29            [-1, 232, 8, 8]          29,696\n",
      "      BatchNorm2d-30            [-1, 232, 8, 8]             464\n",
      "       BasicBlock-31            [-1, 232, 8, 8]               0\n",
      "           Conv2d-32            [-1, 232, 8, 8]         484,416\n",
      "      BatchNorm2d-33            [-1, 232, 8, 8]             464\n",
      "           Conv2d-34            [-1, 232, 8, 8]         484,416\n",
      "      BatchNorm2d-35            [-1, 232, 8, 8]             464\n",
      "       BasicBlock-36            [-1, 232, 8, 8]               0\n",
      "           Conv2d-37            [-1, 268, 4, 4]         559,584\n",
      "      BatchNorm2d-38            [-1, 268, 4, 4]             536\n",
      "           Conv2d-39            [-1, 268, 4, 4]         646,416\n",
      "      BatchNorm2d-40            [-1, 268, 4, 4]             536\n",
      "           Conv2d-41            [-1, 268, 4, 4]          62,176\n",
      "      BatchNorm2d-42            [-1, 268, 4, 4]             536\n",
      "       BasicBlock-43            [-1, 268, 4, 4]               0\n",
      "           Conv2d-44            [-1, 268, 4, 4]         646,416\n",
      "      BatchNorm2d-45            [-1, 268, 4, 4]             536\n",
      "           Conv2d-46            [-1, 268, 4, 4]         646,416\n",
      "      BatchNorm2d-47            [-1, 268, 4, 4]             536\n",
      "       BasicBlock-48            [-1, 268, 4, 4]               0\n",
      "           Linear-49                   [-1, 10]           2,690\n",
      "================================================================\n",
      "Total params: 4,994,298\n",
      "Trainable params: 4,994,298\n",
      "Non-trainable params: 0\n",
      "----------------------------------------------------------------\n",
      "Input size (MB): 0.01\n",
      "Forward/backward pass size (MB): 10.75\n",
      "Params size (MB): 19.05\n",
      "Estimated Total Size (MB): 29.82\n",
      "----------------------------------------------------------------\n"
     ]
    }
   ],
   "source": [
    "net = ResNet([BasicBlock, BasicBlock, BasicBlock, BasicBlock], [2, 2, 2, 2], [64, 128, 232, 268], 3, 1, 4).to(device)  # Reaches ~80% within 5 epochs\n",
    "summary(net, input_size=(3,32,32))"
   ]
  },
  {
   "cell_type": "code",
   "execution_count": 30,
   "metadata": {
    "colab": {
     "base_uri": "https://localhost:8080/"
    },
    "id": "EvhKWuXTjzEZ",
    "outputId": "65d0a6ed-b8bb-475e-fb9e-0a74bf4e2d88"
   },
   "outputs": [
    {
     "name": "stdout",
     "output_type": "stream",
     "text": [
      "Device is set to CUDA\n"
     ]
    }
   ],
   "source": [
    "net = net.to(device)\n",
    "if device == 'cuda':\n",
    "    net = torch.nn.DataParallel(net)\n",
    "    cudnn.benchmark = True\n",
    "    print(\"Device is set to CUDA\")"
   ]
  },
  {
   "cell_type": "code",
   "execution_count": 31,
   "metadata": {
    "id": "dtC0jvf_kQYU"
   },
   "outputs": [],
   "source": [
    "best_acc = 0  # best test accuracy\n",
    "start_epoch = 0 # start from epoch 0 or last checkpoint epoch"
   ]
  },
  {
   "cell_type": "markdown",
   "metadata": {
    "id": "AcyhvqZfkuTh"
   },
   "source": [
    "### Define Optimizer"
   ]
  },
  {
   "cell_type": "code",
   "execution_count": 32,
   "metadata": {
    "id": "tY8PnX79kx6f"
   },
   "outputs": [],
   "source": [
    "criterion = nn.CrossEntropyLoss()\n",
    "\n",
    "optimizer = optim.SGD(net.parameters(), lr=0.1,\n",
    "                      momentum=0.9, weight_decay=5e-4)\n",
    "\n",
    "scheduler = torch.optim.lr_scheduler.CosineAnnealingLR(optimizer, T_max=200)"
   ]
  },
  {
   "cell_type": "markdown",
   "metadata": {
    "id": "LjZwX5IGlC6v"
   },
   "source": [
    "### Training"
   ]
  },
  {
   "cell_type": "code",
   "execution_count": 33,
   "metadata": {
    "id": "8mH6UrxulEb7"
   },
   "outputs": [],
   "source": [
    "# def train(epoch):\n",
    "#     print('\\nEpoch: %d' % epoch)\n",
    "#     net.train()\n",
    "#     train_loss = 0\n",
    "#     correct = 0\n",
    "#     total = 0\n",
    "#     for batch_idx, (inputs, targets) in enumerate(trainloader):\n",
    "#         inputs, targets = inputs.to(device), targets.to(device)\n",
    "#         optimizer.zero_grad()\n",
    "#         outputs = net(inputs)\n",
    "#         loss = criterion(outputs, targets)\n",
    "#         loss.backward()\n",
    "#         optimizer.step()\n",
    "\n",
    "#         train_loss += loss.item()\n",
    "#         _, predicted = outputs.max(1)\n",
    "#         total += targets.size(0)\n",
    "#         correct += predicted.eq(targets).sum().item()\n",
    "\n",
    "#     print('Train Loss: %.3f | Train Acc: %.3f%% (%d/%d)'% (train_loss/(batch_idx+1), 100.*correct/total, correct, total))"
   ]
  },
  {
   "cell_type": "markdown",
   "metadata": {
    "id": "PlaAGeTrlGZe"
   },
   "source": [
    "### Testing"
   ]
  },
  {
   "cell_type": "code",
   "execution_count": 34,
   "metadata": {
    "id": "yfc1pPlclHu1"
   },
   "outputs": [],
   "source": [
    "# def test(epoch):\n",
    "#     global best_acc\n",
    "#     net.eval()\n",
    "#     test_loss = 0\n",
    "#     correct = 0\n",
    "#     total = 0\n",
    "#     with torch.no_grad():\n",
    "#         for batch_idx, (inputs, targets) in enumerate(testloader):\n",
    "#             inputs, targets = inputs.to(device), targets.to(device)\n",
    "#             outputs = net(inputs)\n",
    "#             loss = criterion(outputs, targets)\n",
    "\n",
    "#             test_loss += loss.item()\n",
    "#             _, predicted = outputs.max(1)\n",
    "#             total += targets.size(0)\n",
    "#             correct += predicted.eq(targets).sum().item()\n",
    "\n",
    "#         print('Test Loss: %.3f | Test Acc: %.3f%% (%d/%d)'% (test_loss/(batch_idx+1), 100.*correct/total, correct, total))\n",
    "\n",
    "#     # Save checkpoint.\n",
    "#     acc = 100.*correct/total\n",
    "#     if acc > best_acc:\n",
    "#         print('Saving..')\n",
    "#         state = {\n",
    "#             'net': net.state_dict(),\n",
    "#             'acc': acc,\n",
    "#             'epoch': epoch,\n",
    "#         }\n",
    "#         if not os.path.isdir('checkpoint'):\n",
    "#             os.mkdir('checkpoint')\n",
    "#         torch.save(state, './checkpoint/ckpt.pth')\n",
    "#         best_acc = acc\n"
   ]
  },
  {
   "cell_type": "markdown",
   "metadata": {
    "id": "OwmJ6hWSpuy0"
   },
   "source": [
    "### Train and Evaluate"
   ]
  },
  {
   "cell_type": "code",
   "execution_count": 35,
   "metadata": {
    "colab": {
     "base_uri": "https://localhost:8080/"
    },
    "id": "VTKUBhizpzv7",
    "outputId": "25d8a8b5-9dfd-48e3-c693-dd99d8f00053"
   },
   "outputs": [
    {
     "name": "stdout",
     "output_type": "stream",
     "text": [
      "\n",
      "Epoch: 0\n",
      "Train Loss: 1.677 | Train Acc: 37.942% (18971/50000)\n",
      "Test Loss: 1.308 | Test Acc: 51.500% (5150/10000)\n",
      "Saving..\n",
      "\n",
      "Epoch: 1\n",
      "Train Loss: 1.157 | Train Acc: 57.962% (28981/50000)\n",
      "Test Loss: 1.287 | Test Acc: 56.560% (5656/10000)\n",
      "Saving..\n",
      "\n",
      "Epoch: 2\n",
      "Train Loss: 0.894 | Train Acc: 68.084% (34042/50000)\n",
      "Test Loss: 0.947 | Test Acc: 67.880% (6788/10000)\n",
      "Saving..\n",
      "\n",
      "Epoch: 3\n",
      "Train Loss: 0.716 | Train Acc: 74.792% (37396/50000)\n",
      "Test Loss: 1.109 | Test Acc: 63.280% (6328/10000)\n",
      "\n",
      "Epoch: 4\n",
      "Train Loss: 0.610 | Train Acc: 78.542% (39271/50000)\n",
      "Test Loss: 1.052 | Test Acc: 68.070% (6807/10000)\n",
      "Saving..\n",
      "\n",
      "Epoch: 5\n",
      "Train Loss: 0.549 | Train Acc: 81.030% (40515/50000)\n",
      "Test Loss: 0.704 | Test Acc: 75.730% (7573/10000)\n",
      "Saving..\n",
      "\n",
      "Epoch: 6\n",
      "Train Loss: 0.497 | Train Acc: 82.652% (41326/50000)\n",
      "Test Loss: 0.712 | Test Acc: 76.390% (7639/10000)\n",
      "Saving..\n",
      "\n",
      "Epoch: 7\n",
      "Train Loss: 0.447 | Train Acc: 84.516% (42258/50000)\n",
      "Test Loss: 0.619 | Test Acc: 79.270% (7927/10000)\n",
      "Saving..\n",
      "\n",
      "Epoch: 8\n",
      "Train Loss: 0.416 | Train Acc: 85.560% (42780/50000)\n",
      "Test Loss: 0.676 | Test Acc: 77.790% (7779/10000)\n",
      "\n",
      "Epoch: 9\n",
      "Train Loss: 0.382 | Train Acc: 86.626% (43313/50000)\n",
      "Test Loss: 0.842 | Test Acc: 74.150% (7415/10000)\n",
      "\n",
      "Epoch: 10\n",
      "Train Loss: 0.370 | Train Acc: 87.110% (43555/50000)\n",
      "Test Loss: 0.623 | Test Acc: 79.620% (7962/10000)\n",
      "Saving..\n",
      "\n",
      "Epoch: 11\n",
      "Train Loss: 0.335 | Train Acc: 88.314% (44157/50000)\n",
      "Test Loss: 0.699 | Test Acc: 78.720% (7872/10000)\n",
      "\n",
      "Epoch: 12\n",
      "Train Loss: 0.321 | Train Acc: 88.828% (44414/50000)\n",
      "Test Loss: 0.539 | Test Acc: 82.400% (8240/10000)\n",
      "Saving..\n",
      "\n",
      "Epoch: 13\n",
      "Train Loss: 0.293 | Train Acc: 89.808% (44904/50000)\n",
      "Test Loss: 0.535 | Test Acc: 82.990% (8299/10000)\n",
      "Saving..\n",
      "\n",
      "Epoch: 14\n",
      "Train Loss: 0.284 | Train Acc: 90.188% (45094/50000)\n",
      "Test Loss: 0.492 | Test Acc: 83.790% (8379/10000)\n",
      "Saving..\n",
      "\n",
      "Epoch: 15\n",
      "Train Loss: 0.277 | Train Acc: 90.346% (45173/50000)\n",
      "Test Loss: 0.477 | Test Acc: 83.890% (8389/10000)\n",
      "Saving..\n",
      "\n",
      "Epoch: 16\n",
      "Train Loss: 0.257 | Train Acc: 90.958% (45479/50000)\n",
      "Test Loss: 0.427 | Test Acc: 86.220% (8622/10000)\n",
      "Saving..\n",
      "\n",
      "Epoch: 17\n",
      "Train Loss: 0.253 | Train Acc: 91.208% (45604/50000)\n",
      "Test Loss: 0.540 | Test Acc: 83.050% (8305/10000)\n",
      "\n",
      "Epoch: 18\n",
      "Train Loss: 0.231 | Train Acc: 92.012% (46006/50000)\n",
      "Test Loss: 0.392 | Test Acc: 87.050% (8705/10000)\n",
      "Saving..\n",
      "\n",
      "Epoch: 19\n",
      "Train Loss: 0.227 | Train Acc: 92.070% (46035/50000)\n",
      "Test Loss: 0.450 | Test Acc: 85.470% (8547/10000)\n",
      "\n",
      "Epoch: 20\n",
      "Train Loss: 0.214 | Train Acc: 92.630% (46315/50000)\n",
      "Test Loss: 0.516 | Test Acc: 83.800% (8380/10000)\n",
      "\n",
      "Epoch: 21\n",
      "Train Loss: 0.210 | Train Acc: 92.552% (46276/50000)\n",
      "Test Loss: 0.408 | Test Acc: 87.250% (8725/10000)\n",
      "Saving..\n",
      "\n",
      "Epoch: 22\n",
      "Train Loss: 0.197 | Train Acc: 93.258% (46629/50000)\n",
      "Test Loss: 0.447 | Test Acc: 86.460% (8646/10000)\n",
      "\n",
      "Epoch: 23\n",
      "Train Loss: 0.196 | Train Acc: 93.168% (46584/50000)\n",
      "Test Loss: 0.376 | Test Acc: 88.190% (8819/10000)\n",
      "Saving..\n",
      "\n",
      "Epoch: 24\n",
      "Train Loss: 0.187 | Train Acc: 93.498% (46749/50000)\n",
      "Test Loss: 0.473 | Test Acc: 84.790% (8479/10000)\n",
      "\n",
      "Epoch: 25\n",
      "Train Loss: 0.183 | Train Acc: 93.640% (46820/50000)\n",
      "Test Loss: 0.498 | Test Acc: 84.970% (8497/10000)\n",
      "\n",
      "Epoch: 26\n",
      "Train Loss: 0.179 | Train Acc: 93.718% (46859/50000)\n",
      "Test Loss: 0.435 | Test Acc: 86.890% (8689/10000)\n",
      "\n",
      "Epoch: 27\n",
      "Train Loss: 0.175 | Train Acc: 93.876% (46938/50000)\n",
      "Test Loss: 0.374 | Test Acc: 88.200% (8820/10000)\n",
      "Saving..\n",
      "\n",
      "Epoch: 28\n",
      "Train Loss: 0.169 | Train Acc: 94.056% (47028/50000)\n",
      "Test Loss: 0.513 | Test Acc: 84.020% (8402/10000)\n",
      "\n",
      "Epoch: 29\n",
      "Train Loss: 0.172 | Train Acc: 94.016% (47008/50000)\n",
      "Test Loss: 0.442 | Test Acc: 86.390% (8639/10000)\n",
      "\n",
      "Epoch: 30\n",
      "Train Loss: 0.166 | Train Acc: 94.184% (47092/50000)\n",
      "Test Loss: 0.463 | Test Acc: 85.670% (8567/10000)\n",
      "\n",
      "Epoch: 31\n",
      "Train Loss: 0.162 | Train Acc: 94.460% (47230/50000)\n",
      "Test Loss: 0.457 | Test Acc: 86.730% (8673/10000)\n",
      "\n",
      "Epoch: 32\n",
      "Train Loss: 0.149 | Train Acc: 94.872% (47436/50000)\n",
      "Test Loss: 0.402 | Test Acc: 87.470% (8747/10000)\n",
      "\n",
      "Epoch: 33\n",
      "Train Loss: 0.157 | Train Acc: 94.480% (47240/50000)\n",
      "Test Loss: 0.511 | Test Acc: 85.260% (8526/10000)\n",
      "\n",
      "Epoch: 34\n",
      "Train Loss: 0.160 | Train Acc: 94.340% (47170/50000)\n",
      "Test Loss: 0.559 | Test Acc: 83.660% (8366/10000)\n",
      "\n",
      "Epoch: 35\n",
      "Train Loss: 0.156 | Train Acc: 94.574% (47287/50000)\n",
      "Test Loss: 0.368 | Test Acc: 88.430% (8843/10000)\n",
      "Saving..\n",
      "\n",
      "Epoch: 36\n",
      "Train Loss: 0.143 | Train Acc: 95.156% (47578/50000)\n",
      "Test Loss: 0.523 | Test Acc: 84.720% (8472/10000)\n",
      "\n",
      "Epoch: 37\n",
      "Train Loss: 0.141 | Train Acc: 95.064% (47532/50000)\n",
      "Test Loss: 0.464 | Test Acc: 87.480% (8748/10000)\n",
      "\n",
      "Epoch: 38\n",
      "Train Loss: 0.139 | Train Acc: 95.206% (47603/50000)\n",
      "Test Loss: 0.371 | Test Acc: 89.010% (8901/10000)\n",
      "Saving..\n",
      "\n",
      "Epoch: 39\n",
      "Train Loss: 0.144 | Train Acc: 94.980% (47490/50000)\n",
      "Test Loss: 0.431 | Test Acc: 87.530% (8753/10000)\n",
      "\n",
      "Epoch: 40\n",
      "Train Loss: 0.134 | Train Acc: 95.328% (47664/50000)\n",
      "Test Loss: 0.600 | Test Acc: 81.890% (8189/10000)\n",
      "\n",
      "Epoch: 41\n",
      "Train Loss: 0.142 | Train Acc: 95.056% (47528/50000)\n",
      "Test Loss: 0.527 | Test Acc: 85.510% (8551/10000)\n",
      "\n",
      "Epoch: 42\n",
      "Train Loss: 0.133 | Train Acc: 95.430% (47715/50000)\n",
      "Test Loss: 0.449 | Test Acc: 86.290% (8629/10000)\n",
      "\n",
      "Epoch: 43\n",
      "Train Loss: 0.132 | Train Acc: 95.460% (47730/50000)\n",
      "Test Loss: 0.423 | Test Acc: 87.410% (8741/10000)\n",
      "\n",
      "Epoch: 44\n",
      "Train Loss: 0.132 | Train Acc: 95.380% (47690/50000)\n",
      "Test Loss: 0.408 | Test Acc: 87.920% (8792/10000)\n",
      "\n",
      "Epoch: 45\n",
      "Train Loss: 0.124 | Train Acc: 95.770% (47885/50000)\n",
      "Test Loss: 0.389 | Test Acc: 88.310% (8831/10000)\n",
      "\n",
      "Epoch: 46\n",
      "Train Loss: 0.129 | Train Acc: 95.556% (47778/50000)\n",
      "Test Loss: 0.450 | Test Acc: 86.600% (8660/10000)\n",
      "\n",
      "Epoch: 47\n",
      "Train Loss: 0.123 | Train Acc: 95.714% (47857/50000)\n",
      "Test Loss: 0.484 | Test Acc: 85.500% (8550/10000)\n",
      "\n",
      "Epoch: 48\n",
      "Train Loss: 0.121 | Train Acc: 95.750% (47875/50000)\n",
      "Test Loss: 0.470 | Test Acc: 86.300% (8630/10000)\n",
      "\n",
      "Epoch: 49\n",
      "Train Loss: 0.121 | Train Acc: 95.816% (47908/50000)\n",
      "Test Loss: 0.673 | Test Acc: 81.610% (8161/10000)\n",
      "\n",
      "Epoch: 50\n",
      "Train Loss: 0.120 | Train Acc: 95.774% (47887/50000)\n",
      "Test Loss: 0.456 | Test Acc: 87.460% (8746/10000)\n",
      "\n",
      "Epoch: 51\n",
      "Train Loss: 0.116 | Train Acc: 96.064% (48032/50000)\n",
      "Test Loss: 0.401 | Test Acc: 88.630% (8863/10000)\n",
      "\n",
      "Epoch: 52\n",
      "Train Loss: 0.116 | Train Acc: 96.040% (48020/50000)\n",
      "Test Loss: 0.438 | Test Acc: 87.360% (8736/10000)\n",
      "\n",
      "Epoch: 53\n",
      "Train Loss: 0.113 | Train Acc: 95.996% (47998/50000)\n",
      "Test Loss: 0.401 | Test Acc: 88.720% (8872/10000)\n",
      "\n",
      "Epoch: 54\n",
      "Train Loss: 0.114 | Train Acc: 95.980% (47990/50000)\n",
      "Test Loss: 0.396 | Test Acc: 88.710% (8871/10000)\n",
      "\n",
      "Epoch: 55\n",
      "Train Loss: 0.109 | Train Acc: 96.272% (48136/50000)\n",
      "Test Loss: 0.467 | Test Acc: 87.050% (8705/10000)\n",
      "\n",
      "Epoch: 56\n",
      "Train Loss: 0.110 | Train Acc: 96.300% (48150/50000)\n",
      "Test Loss: 0.472 | Test Acc: 86.660% (8666/10000)\n",
      "\n",
      "Epoch: 57\n",
      "Train Loss: 0.106 | Train Acc: 96.294% (48147/50000)\n",
      "Test Loss: 0.426 | Test Acc: 87.400% (8740/10000)\n",
      "\n",
      "Epoch: 58\n",
      "Train Loss: 0.111 | Train Acc: 96.138% (48069/50000)\n",
      "Test Loss: 0.369 | Test Acc: 89.380% (8938/10000)\n",
      "Saving..\n",
      "\n",
      "Epoch: 59\n",
      "Train Loss: 0.102 | Train Acc: 96.504% (48252/50000)\n",
      "Test Loss: 0.411 | Test Acc: 88.500% (8850/10000)\n",
      "\n",
      "Epoch: 60\n",
      "Train Loss: 0.099 | Train Acc: 96.670% (48335/50000)\n",
      "Test Loss: 0.421 | Test Acc: 87.830% (8783/10000)\n",
      "\n",
      "Epoch: 61\n",
      "Train Loss: 0.099 | Train Acc: 96.618% (48309/50000)\n",
      "Test Loss: 0.351 | Test Acc: 89.970% (8997/10000)\n",
      "Saving..\n",
      "\n",
      "Epoch: 62\n",
      "Train Loss: 0.099 | Train Acc: 96.518% (48259/50000)\n",
      "Test Loss: 0.335 | Test Acc: 90.050% (9005/10000)\n",
      "Saving..\n",
      "\n",
      "Epoch: 63\n",
      "Train Loss: 0.097 | Train Acc: 96.682% (48341/50000)\n",
      "Test Loss: 0.349 | Test Acc: 89.670% (8967/10000)\n",
      "\n",
      "Epoch: 64\n",
      "Train Loss: 0.090 | Train Acc: 96.914% (48457/50000)\n",
      "Test Loss: 0.335 | Test Acc: 90.220% (9022/10000)\n",
      "Saving..\n",
      "\n",
      "Epoch: 65\n",
      "Train Loss: 0.090 | Train Acc: 96.864% (48432/50000)\n",
      "Test Loss: 0.496 | Test Acc: 86.590% (8659/10000)\n",
      "\n",
      "Epoch: 66\n",
      "Train Loss: 0.101 | Train Acc: 96.522% (48261/50000)\n",
      "Test Loss: 0.443 | Test Acc: 87.880% (8788/10000)\n",
      "\n",
      "Epoch: 67\n",
      "Train Loss: 0.094 | Train Acc: 96.796% (48398/50000)\n",
      "Test Loss: 0.443 | Test Acc: 87.380% (8738/10000)\n",
      "\n",
      "Epoch: 68\n",
      "Train Loss: 0.088 | Train Acc: 96.934% (48467/50000)\n",
      "Test Loss: 0.381 | Test Acc: 89.250% (8925/10000)\n",
      "\n",
      "Epoch: 69\n",
      "Train Loss: 0.094 | Train Acc: 96.780% (48390/50000)\n",
      "Test Loss: 0.429 | Test Acc: 88.140% (8814/10000)\n",
      "\n",
      "Epoch: 70\n",
      "Train Loss: 0.095 | Train Acc: 96.764% (48382/50000)\n",
      "Test Loss: 0.450 | Test Acc: 87.160% (8716/10000)\n",
      "\n",
      "Epoch: 71\n",
      "Train Loss: 0.080 | Train Acc: 97.314% (48657/50000)\n",
      "Test Loss: 0.538 | Test Acc: 86.090% (8609/10000)\n",
      "\n",
      "Epoch: 72\n",
      "Train Loss: 0.083 | Train Acc: 97.200% (48600/50000)\n",
      "Test Loss: 0.392 | Test Acc: 89.170% (8917/10000)\n",
      "\n",
      "Epoch: 73\n",
      "Train Loss: 0.087 | Train Acc: 97.004% (48502/50000)\n",
      "Test Loss: 0.422 | Test Acc: 87.540% (8754/10000)\n",
      "\n",
      "Epoch: 74\n",
      "Train Loss: 0.093 | Train Acc: 96.880% (48440/50000)\n",
      "Test Loss: 0.371 | Test Acc: 88.990% (8899/10000)\n",
      "\n",
      "Epoch: 75\n",
      "Train Loss: 0.079 | Train Acc: 97.262% (48631/50000)\n",
      "Test Loss: 0.439 | Test Acc: 87.830% (8783/10000)\n",
      "\n",
      "Epoch: 76\n",
      "Train Loss: 0.082 | Train Acc: 97.206% (48603/50000)\n",
      "Test Loss: 0.461 | Test Acc: 87.520% (8752/10000)\n",
      "\n",
      "Epoch: 77\n",
      "Train Loss: 0.080 | Train Acc: 97.246% (48623/50000)\n",
      "Test Loss: 0.537 | Test Acc: 85.770% (8577/10000)\n",
      "\n",
      "Epoch: 78\n",
      "Train Loss: 0.077 | Train Acc: 97.374% (48687/50000)\n",
      "Test Loss: 0.460 | Test Acc: 87.410% (8741/10000)\n",
      "\n",
      "Epoch: 79\n",
      "Train Loss: 0.078 | Train Acc: 97.316% (48658/50000)\n",
      "Test Loss: 0.380 | Test Acc: 88.890% (8889/10000)\n"
     ]
    },
    {
     "data": {
      "image/png": "[encoded data removed]",
      "text/plain": [
       "<Figure size 720x360 with 2 Axes>"
      ]
     },
     "metadata": {
      "needs_background": "light"
     },
     "output_type": "display_data"
    }
   ],
   "source": [
    "import matplotlib.pyplot as plt\n",
    "\n",
    "train_losses = []\n",
    "train_accs = []\n",
    "test_losses = []\n",
    "test_accs = []\n",
    "\n",
    "def train(epoch):\n",
    "    global train_losses, train_accs\n",
    "    print('\\nEpoch: %d' % epoch)\n",
    "    net.train()\n",
    "    train_loss = 0\n",
    "    correct = 0\n",
    "    total = 0\n",
    "    for batch_idx, (inputs, targets) in enumerate(trainloader):\n",
    "        inputs, targets = inputs.to(device), targets.to(device)\n",
    "        optimizer.zero_grad()\n",
    "        outputs = net(inputs)\n",
    "        loss = criterion(outputs, targets)\n",
    "        loss.backward()\n",
    "        optimizer.step()\n",
    "\n",
    "        train_loss += loss.item()\n",
    "        _, predicted = outputs.max(1)\n",
    "        total += targets.size(0)\n",
    "        correct += predicted.eq(targets).sum().item()\n",
    "\n",
    "    train_losses.append(train_loss/(batch_idx+1))\n",
    "    train_accs.append(100.*correct/total)\n",
    "    print('Train Loss: %.3f | Train Acc: %.3f%% (%d/%d)'% (train_losses[-1], train_accs[-1], correct, total))\n",
    "\n",
    "def test(epoch):\n",
    "    global best_acc, test_losses, test_accs\n",
    "    net.eval()\n",
    "    test_loss = 0\n",
    "    correct = 0\n",
    "    total = 0\n",
    "    with torch.no_grad():\n",
    "        for batch_idx, (inputs, targets) in enumerate(testloader):\n",
    "            inputs, targets = inputs.to(device), targets.to(device)\n",
    "            outputs = net(inputs)\n",
    "            loss = criterion(outputs, targets)\n",
    "\n",
    "            test_loss += loss.item()\n",
    "            _, predicted = outputs.max(1)\n",
    "            total += targets.size(0)\n",
    "            correct += predicted.eq(targets).sum().item()\n",
    "\n",
    "        test_losses.append(test_loss/(batch_idx+1))\n",
    "        test_accs.append(100.*correct/total)\n",
    "        print('Test Loss: %.3f | Test Acc: %.3f%% (%d/%d)'% (test_losses[-1], test_accs[-1], correct, total))\n",
    "\n",
    "        # Save checkpoint.\n",
    "        acc = 100.*correct/total\n",
    "        if acc > best_acc:\n",
    "            print('Saving..')\n",
    "            state = {\n",
    "                'net': net.state_dict(),\n",
    "                'acc': acc,\n",
    "                'epoch': epoch,\n",
    "            }\n",
    "            if not os.path.isdir('checkpoint'):\n",
    "                os.mkdir('checkpoint')\n",
    "            torch.save(state, './checkpoint/model2.pth')\n",
    "            best_acc = acc\n",
    "\n",
    "# Train and test the model for multiple epochs\n",
    "for epoch in range(start_epoch, 80):\n",
    "    train(epoch)\n",
    "    test(epoch)\n",
    "    scheduler.step()\n",
    "\n",
    "# Plot the training and testing curves\n",
    "plt.figure(figsize=(10,5))\n",
    "plt.subplot(1,2,1)\n",
    "plt.plot(train_losses,label='Train')\n",
    "plt.plot(test_losses,label='Test')\n",
    "plt.xlabel('Epoch')\n",
    "plt.ylabel('Loss')\n",
    "plt.legend()\n",
    "plt.subplot(1,2,2)\n",
    "plt.plot(train_accs,label='Train')\n",
    "plt.plot(test_accs,label='Test')\n",
    "plt.xlabel('Epoch')\n",
    "plt.ylabel('Accuracy')\n",
    "plt.legend()\n",
    "plt.show()"
   ]
  },
  {
   "cell_type": "code",
   "execution_count": null,
   "metadata": {
    "id": "6eFWRVKJzvP5"
   },
   "outputs": [],
   "source": []
  }
 ],
 "metadata": {
  "accelerator": "GPU",
  "colab": {
   "provenance": []
  },
  "gpuClass": "standard",
  "kernelspec": {
   "display_name": "Python 3",
   "language": "python",
   "name": "python3"
  },
  "language_info": {
   "codemirror_mode": {
    "name": "ipython",
    "version": 3
   },
   "file_extension": ".py",
   "mimetype": "text/x-python",
   "name": "python",
   "nbconvert_exporter": "python",
   "pygments_lexer": "ipython3",
   "version": "3.8.6"
  }
 },
 "nbformat": 4,
 "nbformat_minor": 1
}
