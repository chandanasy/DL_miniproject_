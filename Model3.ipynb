{
 "cells": [
  {
   "cell_type": "markdown",
   "metadata": {
    "id": "6YqZd3YT8EKp"
   },
   "source": [
    "### Import Modules"
   ]
  },
  {
   "cell_type": "code",
   "execution_count": 1,
   "metadata": {
    "id": "ufMRWg9Ys-L_"
   },
   "outputs": [],
   "source": [
    "import torch\n",
    "import torch.nn as nn\n",
    "import torch.optim as optim\n",
    "from torchvision import datasets, models, transforms\n",
    "from torchsummary import summary\n",
    "import matplotlib.pyplot as plt\n",
    "import torch.nn.functional as F\n",
    "import torch.backends.cudnn as cudnn\n",
    "import os\n",
    "import sys\n",
    "import time"
   ]
  },
  {
   "cell_type": "markdown",
   "metadata": {
    "id": "LvrCwMES74W4"
   },
   "source": [
    "### Hardware Accelerator Check"
   ]
  },
  {
   "cell_type": "code",
   "execution_count": 2,
   "metadata": {
    "colab": {
     "base_uri": "https://localhost:8080/"
    },
    "id": "mjUFclRx78qk",
    "outputId": "5abbd97b-e63c-4a56-f541-0b352d2471af"
   },
   "outputs": [
    {
     "data": {
      "text/plain": [
       "True"
      ]
     },
     "execution_count": 2,
     "metadata": {},
     "output_type": "execute_result"
    }
   ],
   "source": [
    "torch.cuda.is_available()"
   ]
  },
  {
   "cell_type": "code",
   "execution_count": 3,
   "metadata": {
    "id": "Pg-WAkTVzo2Q"
   },
   "outputs": [],
   "source": [
    "device = 'cuda' if torch.cuda.is_available() else 'cpu'"
   ]
  },
  {
   "cell_type": "markdown",
   "metadata": {
    "id": "ACZiV7w89N0l"
   },
   "source": [
    "### Data Preparation"
   ]
  },
  {
   "cell_type": "code",
   "execution_count": 4,
   "metadata": {
    "id": "Xv5JdFPh-iSs"
   },
   "outputs": [],
   "source": [
    "# defining data transforms for train and test datasets\n",
    "\n",
    "transform_train = transforms.Compose([\n",
    "    transforms.RandomCrop(32, padding=4),\n",
    "    transforms.RandomHorizontalFlip(),\n",
    "    transforms.ToTensor(),\n",
    "    transforms.Normalize((0.4914, 0.4822, 0.4465), (0.2023, 0.1994, 0.2010)),\n",
    "])\n",
    "\n",
    "transform_test = transforms.Compose([\n",
    "    transforms.ToTensor(),\n",
    "    transforms.Normalize((0.4914, 0.4822, 0.4465), (0.2023, 0.1994, 0.2010)),\n",
    "])\n"
   ]
  },
  {
   "cell_type": "code",
   "execution_count": 5,
   "metadata": {
    "colab": {
     "base_uri": "https://localhost:8080/"
    },
    "id": "hpYR5mrD9R99",
    "outputId": "f8183453-42b0-4694-f0c9-be25b1a26baa"
   },
   "outputs": [
    {
     "name": "stdout",
     "output_type": "stream",
     "text": [
      "Files already downloaded and verified\n",
      "Files already downloaded and verified\n"
     ]
    }
   ],
   "source": [
    "# importing CIFAR10 train and test datasets\n",
    "\n",
    "trainset = datasets.CIFAR10(root='./data', train=True, download=True, transform=transform_train)\n",
    "\n",
    "testset = datasets.CIFAR10(root='./data', train=False, download=True, transform=transform_test)"
   ]
  },
  {
   "cell_type": "code",
   "execution_count": 6,
   "metadata": {
    "colab": {
     "base_uri": "https://localhost:8080/"
    },
    "id": "UwMYna8fAYG9",
    "outputId": "8520f613-716a-462c-c87d-d977005a6494"
   },
   "outputs": [
    {
     "data": {
      "text/plain": [
       "Dataset CIFAR10\n",
       "    Number of datapoints: 50000\n",
       "    Root location: ./data\n",
       "    Split: Train\n",
       "    StandardTransform\n",
       "Transform: Compose(\n",
       "               RandomCrop(size=(32, 32), padding=4)\n",
       "               RandomHorizontalFlip(p=0.5)\n",
       "               ToTensor()\n",
       "               Normalize(mean=(0.4914, 0.4822, 0.4465), std=(0.2023, 0.1994, 0.201))\n",
       "           )"
      ]
     },
     "execution_count": 6,
     "metadata": {},
     "output_type": "execute_result"
    }
   ],
   "source": [
    "# number of data points in train dataset\n",
    "\n",
    "trainset"
   ]
  },
  {
   "cell_type": "code",
   "execution_count": 7,
   "metadata": {
    "colab": {
     "base_uri": "https://localhost:8080/"
    },
    "id": "ZoCxJBHyBCNH",
    "outputId": "95c07616-af06-4afb-9e62-780fb152905b"
   },
   "outputs": [
    {
     "data": {
      "text/plain": [
       "Dataset CIFAR10\n",
       "    Number of datapoints: 10000\n",
       "    Root location: ./data\n",
       "    Split: Test\n",
       "    StandardTransform\n",
       "Transform: Compose(\n",
       "               ToTensor()\n",
       "               Normalize(mean=(0.4914, 0.4822, 0.4465), std=(0.2023, 0.1994, 0.201))\n",
       "           )"
      ]
     },
     "execution_count": 7,
     "metadata": {},
     "output_type": "execute_result"
    }
   ],
   "source": [
    "# number of data points in test dataset\n",
    "\n",
    "testset"
   ]
  },
  {
   "cell_type": "code",
   "execution_count": 8,
   "metadata": {
    "id": "fk708NCiBX7T"
   },
   "outputs": [],
   "source": [
    "# creating data loaders for train and test datasets\n",
    "\n",
    "trainloader = torch.utils.data.DataLoader(trainset, batch_size=512, shuffle=True, num_workers=2)\n",
    "\n",
    "testloader = torch.utils.data.DataLoader(testset, batch_size=256, shuffle=False, num_workers=2)\n"
   ]
  },
  {
   "cell_type": "code",
   "execution_count": 9,
   "metadata": {
    "colab": {
     "base_uri": "https://localhost:8080/"
    },
    "id": "h29ZWJm5DAuh",
    "outputId": "4eefd6ff-3251-42a5-c55d-f9d3bd178cc6"
   },
   "outputs": [
    {
     "data": {
      "text/plain": [
       "['airplane',\n",
       " 'automobile',\n",
       " 'bird',\n",
       " 'cat',\n",
       " 'deer',\n",
       " 'dog',\n",
       " 'frog',\n",
       " 'horse',\n",
       " 'ship',\n",
       " 'truck']"
      ]
     },
     "execution_count": 9,
     "metadata": {},
     "output_type": "execute_result"
    }
   ],
   "source": [
    "# The different classes in CIFAR10 dataset are\n",
    "\n",
    "trainset.classes"
   ]
  },
  {
   "cell_type": "markdown",
   "metadata": {
    "id": "EInXPW4McCbW"
   },
   "source": [
    "### ResNet18 NN Basic Block"
   ]
  },
  {
   "cell_type": "code",
   "execution_count": 10,
   "metadata": {
    "id": "F2qgIJrKdlBR"
   },
   "outputs": [],
   "source": [
    "# class BasicBlock(nn.Module):\n",
    "#     expansion = 1\n",
    "\n",
    "#     def __init__(self, in_channels, out_channels, stride = 1, conv_kernel_size = 3, skip_connection_kernel_size = 1):\n",
    "#         super(BasicBlock, self).__init__()\n",
    "#         self.conv1 = nn.Conv2d(in_channels, out_channels, kernel_size = conv_kernel_size, stride = stride, padding = 1, bias = False)\n",
    "#         self.bn1 = nn.BatchNorm2d(out_channels)\n",
    "#         self.conv2 = nn.Conv2d(out_channels, out_channels, kernel_size = conv_kernel_size, stride = 1, padding = 1, bias = False)\n",
    "#         self.bn2 = nn.BatchNorm2d(out_channels)\n",
    "\n",
    "#         self.shortcut = nn.Sequential()\n",
    "#         if stride != 1 or in_channels != self.expansion * out_channels:\n",
    "#             self.shortcut = nn.Sequential(\n",
    "#                 nn.Conv2d(in_channels, self.expansion * out_channels, kernel_size = skip_connection_kernel_size, stride = stride, bias = False),\n",
    "#                 nn.BatchNorm2d(self.expansion * out_channels)\n",
    "#             )\n",
    "\n",
    "#     def forward(self, x):\n",
    "#         out = F.relu(self.bn1(self.conv1(x)))\n",
    "#         out = self.bn2(self.conv2(out))\n",
    "#         out += self.shortcut(x)\n",
    "#         out = F.relu(out)\n",
    "#         return out"
   ]
  },
  {
   "cell_type": "markdown",
   "metadata": {
    "id": "Q426VQXygcsk"
   },
   "source": [
    "### ResNet18 Architecture"
   ]
  },
  {
   "cell_type": "code",
   "execution_count": 11,
   "metadata": {
    "id": "P0v523cAghUa"
   },
   "outputs": [],
   "source": [
    "# class ResNet(nn.Module):\n",
    "#     def __init__(self, block, num_blocks, channels, conv_kernel_size, skip_connection_kernel_size, avg_maxPool_size, num_classes = 10):\n",
    "#         super(ResNet, self).__init__()\n",
    "#         self.input = channels[0]\n",
    "#         self.conv_kernel_size = conv_kernel_size\n",
    "#         self.skip_connection_kernel_size = skip_connection_kernel_size\n",
    "#         self.avg_maxPool_size = avg_maxPool_size\n",
    "\n",
    "#         self.conv1 = nn.Conv2d(3, channels[0], kernel_size = 3, stride = 1, padding = 1, bias = False)\n",
    "#         self.bn1 = nn.BatchNorm2d(channels[0])\n",
    "#         self.layer1 = self._make_layer(block[0], channels[0], num_blocks[0], stride = 1)\n",
    "#         self.layer2 = self._make_layer(block[1], channels[1], num_blocks[1], stride = 2)\n",
    "#         self.layer3 = self._make_layer(block[2], channels[2], num_blocks[2], stride = 2)\n",
    "#         self.layer4 = self._make_layer(block[3], channels[3], num_blocks[3], stride = 2)\n",
    "#         self.linear = nn.Linear(channels[3] * block[3].expansion, num_classes)\n",
    "\n",
    "#     def _make_layer(self, block, out_channels, num_blocks, stride):\n",
    "#         strides = [stride] + [1]*(num_blocks-1)\n",
    "#         layers = []\n",
    "#         for stride in strides:\n",
    "#             layers.append(block(self.input, out_channels, stride, self.conv_kernel_size, self.skip_connection_kernel_size))\n",
    "#             self.input = out_channels * block.expansion\n",
    "#         return nn.Sequential(*layers)\n",
    "\n",
    "#     def forward(self, x):\n",
    "#         out = F.relu(self.bn1(self.conv1(x)))\n",
    "#         out = self.layer1(out)\n",
    "#         out = self.layer2(out)\n",
    "#         out = self.layer3(out)\n",
    "#         out = self.layer4(out)\n",
    "#         out = F.avg_pool2d(out, self.avg_maxPool_size)\n",
    "#         out = torch.flatten(out, 1)\n",
    "#         out = self.linear(out)\n",
    "#         return out\n",
    "\n",
    "class BasicBlock(nn.Module):\n",
    "    expansion = 1\n",
    "\n",
    "    def __init__(self, in_channels, out_channels, stride=1, conv_kernel_size=3, skip_connection_kernel_size=1):\n",
    "        super(BasicBlock, self).__init__()\n",
    "        self.conv1 = nn.Conv2d(in_channels, out_channels, kernel_size=conv_kernel_size, stride=stride, padding=1, bias=False)\n",
    "        self.bn1 = nn.BatchNorm2d(out_channels)\n",
    "        self.conv2 = nn.Conv2d(out_channels, out_channels, kernel_size=conv_kernel_size, stride=1, padding=1, bias=False)\n",
    "        self.bn2 = nn.BatchNorm2d(out_channels)\n",
    "\n",
    "        self.shortcut = nn.Sequential()\n",
    "        if stride != 1 or in_channels != self.expansion * out_channels:\n",
    "            self.shortcut = nn.Sequential(\n",
    "                nn.Conv2d(in_channels, self.expansion * out_channels, kernel_size=skip_connection_kernel_size, stride=stride, bias=False),\n",
    "                nn.BatchNorm2d(self.expansion * out_channels)\n",
    "            )\n",
    "\n",
    "    def forward(self, x):\n",
    "        out = F.leaky_relu(self.bn1(self.conv1(x)))\n",
    "        out = self.bn2(self.conv2(out))\n",
    "        out += self.shortcut(x)\n",
    "        out = F.leaky_relu(out)\n",
    "        return out\n",
    "\n",
    "class ResNet(nn.Module):\n",
    "    def __init__(self, block, num_blocks, channels, conv_kernel_size, skip_connection_kernel_size, avg_maxPool_size, num_classes=10):\n",
    "        super(ResNet, self).__init__()\n",
    "        self.input = channels[0]\n",
    "        self.conv_kernel_size = conv_kernel_size\n",
    "        self.skip_connection_kernel_size = skip_connection_kernel_size\n",
    "        self.avg_maxPool_size = avg_maxPool_size\n",
    "\n",
    "        self.conv1 = nn.Conv2d(3, channels[0], kernel_size=3, stride=1, padding=1, bias=False)\n",
    "        self.bn1 = nn.BatchNorm2d(channels[0])\n",
    "        self.layer1 = self._make_layer(block[0], channels[0], num_blocks[0], stride=1)\n",
    "        self.layer2 = self._make_layer(block[1], channels[1], num_blocks[1], stride=2)\n",
    "        self.layer3 = self._make_layer(block[2], channels[2], num_blocks[2], stride=2)\n",
    "        self.layer4 = self._make_layer(block[3], channels[3], num_blocks[3], stride=2)\n",
    "        self.linear = nn.Linear(channels[3] * block[3].expansion, num_classes)\n",
    "\n",
    "    def _make_layer(self, block, out_channels, num_blocks, stride):\n",
    "        strides = [stride] + [1] * (num_blocks - 1)\n",
    "        layers = []\n",
    "        for stride in strides:\n",
    "            layers.append(block(self.input, out_channels, stride, self.conv_kernel_size, self.skip_connection_kernel_size))\n",
    "            self.input = out_channels * block.expansion\n",
    "        return nn.Sequential(*layers)\n",
    "\n",
    "    def forward(self, x):\n",
    "        out = F.leaky_relu(self.bn1(self.conv1(x)))\n",
    "        out = self.layer1(out)\n",
    "        out = self.layer2(out)\n",
    "        out = self.layer3(out)\n",
    "        out = self.layer4(out)\n",
    "        out = F.avg_pool2d(out, self.avg_maxPool_size)\n",
    "        out = torch.flatten(out, 1)\n",
    "        out = self.linear(out)\n",
    "        return out"
   ]
  },
  {
   "cell_type": "markdown",
   "metadata": {
    "id": "OLeaBXhHjhwf"
   },
   "source": [
    "### Initialize the Model"
   ]
  },
  {
   "cell_type": "code",
   "execution_count": 12,
   "metadata": {
    "id": "J7pxIGqijjz2"
   },
   "outputs": [
    {
     "name": "stdout",
     "output_type": "stream",
     "text": [
      "----------------------------------------------------------------\n",
      "        Layer (type)               Output Shape         Param #\n",
      "================================================================\n",
      "            Conv2d-1           [-1, 64, 32, 32]           1,728\n",
      "       BatchNorm2d-2           [-1, 64, 32, 32]             128\n",
      "            Conv2d-3           [-1, 64, 32, 32]          36,864\n",
      "       BatchNorm2d-4           [-1, 64, 32, 32]             128\n",
      "            Conv2d-5           [-1, 64, 32, 32]          36,864\n",
      "       BatchNorm2d-6           [-1, 64, 32, 32]             128\n",
      "        BasicBlock-7           [-1, 64, 32, 32]               0\n",
      "            Conv2d-8           [-1, 64, 32, 32]          36,864\n",
      "       BatchNorm2d-9           [-1, 64, 32, 32]             128\n",
      "           Conv2d-10           [-1, 64, 32, 32]          36,864\n",
      "      BatchNorm2d-11           [-1, 64, 32, 32]             128\n",
      "       BasicBlock-12           [-1, 64, 32, 32]               0\n",
      "           Conv2d-13          [-1, 128, 16, 16]          73,728\n",
      "      BatchNorm2d-14          [-1, 128, 16, 16]             256\n",
      "           Conv2d-15          [-1, 128, 16, 16]         147,456\n",
      "      BatchNorm2d-16          [-1, 128, 16, 16]             256\n",
      "           Conv2d-17          [-1, 128, 16, 16]           8,192\n",
      "      BatchNorm2d-18          [-1, 128, 16, 16]             256\n",
      "       BasicBlock-19          [-1, 128, 16, 16]               0\n",
      "           Conv2d-20          [-1, 128, 16, 16]         147,456\n",
      "      BatchNorm2d-21          [-1, 128, 16, 16]             256\n",
      "           Conv2d-22          [-1, 128, 16, 16]         147,456\n",
      "      BatchNorm2d-23          [-1, 128, 16, 16]             256\n",
      "       BasicBlock-24          [-1, 128, 16, 16]               0\n",
      "           Conv2d-25            [-1, 232, 8, 8]         267,264\n",
      "      BatchNorm2d-26            [-1, 232, 8, 8]             464\n",
      "           Conv2d-27            [-1, 232, 8, 8]         484,416\n",
      "      BatchNorm2d-28            [-1, 232, 8, 8]             464\n",
      "           Conv2d-29            [-1, 232, 8, 8]          29,696\n",
      "      BatchNorm2d-30            [-1, 232, 8, 8]             464\n",
      "       BasicBlock-31            [-1, 232, 8, 8]               0\n",
      "           Conv2d-32            [-1, 232, 8, 8]         484,416\n",
      "      BatchNorm2d-33            [-1, 232, 8, 8]             464\n",
      "           Conv2d-34            [-1, 232, 8, 8]         484,416\n",
      "      BatchNorm2d-35            [-1, 232, 8, 8]             464\n",
      "       BasicBlock-36            [-1, 232, 8, 8]               0\n",
      "           Conv2d-37            [-1, 268, 4, 4]         559,584\n",
      "      BatchNorm2d-38            [-1, 268, 4, 4]             536\n",
      "           Conv2d-39            [-1, 268, 4, 4]         646,416\n",
      "      BatchNorm2d-40            [-1, 268, 4, 4]             536\n",
      "           Conv2d-41            [-1, 268, 4, 4]          62,176\n",
      "      BatchNorm2d-42            [-1, 268, 4, 4]             536\n",
      "       BasicBlock-43            [-1, 268, 4, 4]               0\n",
      "           Conv2d-44            [-1, 268, 4, 4]         646,416\n",
      "      BatchNorm2d-45            [-1, 268, 4, 4]             536\n",
      "           Conv2d-46            [-1, 268, 4, 4]         646,416\n",
      "      BatchNorm2d-47            [-1, 268, 4, 4]             536\n",
      "       BasicBlock-48            [-1, 268, 4, 4]               0\n",
      "           Linear-49                   [-1, 10]           2,690\n",
      "================================================================\n",
      "Total params: 4,994,298\n",
      "Trainable params: 4,994,298\n",
      "Non-trainable params: 0\n",
      "----------------------------------------------------------------\n",
      "Input size (MB): 0.01\n",
      "Forward/backward pass size (MB): 10.75\n",
      "Params size (MB): 19.05\n",
      "Estimated Total Size (MB): 29.82\n",
      "----------------------------------------------------------------\n"
     ]
    }
   ],
   "source": [
    "net = ResNet([BasicBlock, BasicBlock, BasicBlock, BasicBlock], [2, 2, 2, 2], [64, 128, 232, 268], 3, 1, 4).to(device)  # Reaches ~80% within 5 epochs\n",
    "summary(net, input_size=(3,32,32))"
   ]
  },
  {
   "cell_type": "code",
   "execution_count": 13,
   "metadata": {
    "colab": {
     "base_uri": "https://localhost:8080/"
    },
    "id": "EvhKWuXTjzEZ",
    "outputId": "65d0a6ed-b8bb-475e-fb9e-0a74bf4e2d88"
   },
   "outputs": [
    {
     "name": "stdout",
     "output_type": "stream",
     "text": [
      "Device is set to CUDA\n"
     ]
    }
   ],
   "source": [
    "net = net.to(device)\n",
    "if device == 'cuda':\n",
    "    net = torch.nn.DataParallel(net)\n",
    "    cudnn.benchmark = True\n",
    "    print(\"Device is set to CUDA\")"
   ]
  },
  {
   "cell_type": "code",
   "execution_count": 14,
   "metadata": {
    "id": "dtC0jvf_kQYU"
   },
   "outputs": [],
   "source": [
    "best_acc = 0  # best test accuracy\n",
    "start_epoch = 0 # start from epoch 0 or last checkpoint epoch"
   ]
  },
  {
   "cell_type": "markdown",
   "metadata": {
    "id": "AcyhvqZfkuTh"
   },
   "source": [
    "### Define Optimizer"
   ]
  },
  {
   "cell_type": "code",
   "execution_count": 15,
   "metadata": {
    "id": "tY8PnX79kx6f"
   },
   "outputs": [],
   "source": [
    "criterion = nn.CrossEntropyLoss()\n",
    "\n",
    "optimizer = optim.SGD(net.parameters(), lr=0.1,\n",
    "                      momentum=0.9, weight_decay=5e-4)\n",
    "\n",
    "scheduler = torch.optim.lr_scheduler.CosineAnnealingLR(optimizer, T_max=200)"
   ]
  },
  {
   "cell_type": "markdown",
   "metadata": {
    "id": "LjZwX5IGlC6v"
   },
   "source": [
    "### Training"
   ]
  },
  {
   "cell_type": "code",
   "execution_count": 16,
   "metadata": {
    "id": "8mH6UrxulEb7"
   },
   "outputs": [],
   "source": [
    "# def train(epoch):\n",
    "#     print('\\nEpoch: %d' % epoch)\n",
    "#     net.train()\n",
    "#     train_loss = 0\n",
    "#     correct = 0\n",
    "#     total = 0\n",
    "#     for batch_idx, (inputs, targets) in enumerate(trainloader):\n",
    "#         inputs, targets = inputs.to(device), targets.to(device)\n",
    "#         optimizer.zero_grad()\n",
    "#         outputs = net(inputs)\n",
    "#         loss = criterion(outputs, targets)\n",
    "#         loss.backward()\n",
    "#         optimizer.step()\n",
    "\n",
    "#         train_loss += loss.item()\n",
    "#         _, predicted = outputs.max(1)\n",
    "#         total += targets.size(0)\n",
    "#         correct += predicted.eq(targets).sum().item()\n",
    "\n",
    "#     print('Train Loss: %.3f | Train Acc: %.3f%% (%d/%d)'% (train_loss/(batch_idx+1), 100.*correct/total, correct, total))"
   ]
  },
  {
   "cell_type": "markdown",
   "metadata": {
    "id": "PlaAGeTrlGZe"
   },
   "source": [
    "### Testing"
   ]
  },
  {
   "cell_type": "code",
   "execution_count": 17,
   "metadata": {
    "id": "yfc1pPlclHu1"
   },
   "outputs": [],
   "source": [
    "# def test(epoch):\n",
    "#     global best_acc\n",
    "#     net.eval()\n",
    "#     test_loss = 0\n",
    "#     correct = 0\n",
    "#     total = 0\n",
    "#     with torch.no_grad():\n",
    "#         for batch_idx, (inputs, targets) in enumerate(testloader):\n",
    "#             inputs, targets = inputs.to(device), targets.to(device)\n",
    "#             outputs = net(inputs)\n",
    "#             loss = criterion(outputs, targets)\n",
    "\n",
    "#             test_loss += loss.item()\n",
    "#             _, predicted = outputs.max(1)\n",
    "#             total += targets.size(0)\n",
    "#             correct += predicted.eq(targets).sum().item()\n",
    "\n",
    "#         print('Test Loss: %.3f | Test Acc: %.3f%% (%d/%d)'% (test_loss/(batch_idx+1), 100.*correct/total, correct, total))\n",
    "\n",
    "#     # Save checkpoint.\n",
    "#     acc = 100.*correct/total\n",
    "#     if acc > best_acc:\n",
    "#         print('Saving..')\n",
    "#         state = {\n",
    "#             'net': net.state_dict(),\n",
    "#             'acc': acc,\n",
    "#             'epoch': epoch,\n",
    "#         }\n",
    "#         if not os.path.isdir('checkpoint'):\n",
    "#             os.mkdir('checkpoint')\n",
    "#         torch.save(state, './checkpoint/ckpt.pth')\n",
    "#         best_acc = acc\n"
   ]
  },
  {
   "cell_type": "markdown",
   "metadata": {
    "id": "OwmJ6hWSpuy0"
   },
   "source": [
    "### Train and Evaluate"
   ]
  },
  {
   "cell_type": "code",
   "execution_count": 18,
   "metadata": {
    "colab": {
     "base_uri": "https://localhost:8080/"
    },
    "id": "VTKUBhizpzv7",
    "outputId": "25d8a8b5-9dfd-48e3-c693-dd99d8f00053"
   },
   "outputs": [
    {
     "name": "stdout",
     "output_type": "stream",
     "text": [
      "\n",
      "Epoch: 0\n",
      "Train Loss: 1.703 | Train Acc: 37.144% (18572/50000)\n",
      "Test Loss: 1.394 | Test Acc: 48.750% (4875/10000)\n",
      "Saving..\n",
      "\n",
      "Epoch: 1\n",
      "Train Loss: 1.225 | Train Acc: 55.210% (27605/50000)\n",
      "Test Loss: 1.257 | Test Acc: 56.500% (5650/10000)\n",
      "Saving..\n",
      "\n",
      "Epoch: 2\n",
      "Train Loss: 0.946 | Train Acc: 66.062% (33031/50000)\n",
      "Test Loss: 1.018 | Test Acc: 65.370% (6537/10000)\n",
      "Saving..\n",
      "\n",
      "Epoch: 3\n",
      "Train Loss: 0.778 | Train Acc: 72.518% (36259/50000)\n",
      "Test Loss: 0.951 | Test Acc: 67.910% (6791/10000)\n",
      "Saving..\n",
      "\n",
      "Epoch: 4\n",
      "Train Loss: 0.645 | Train Acc: 77.394% (38697/50000)\n",
      "Test Loss: 0.709 | Test Acc: 75.260% (7526/10000)\n",
      "Saving..\n",
      "\n",
      "Epoch: 5\n",
      "Train Loss: 0.562 | Train Acc: 80.530% (40265/50000)\n",
      "Test Loss: 0.828 | Test Acc: 73.360% (7336/10000)\n",
      "\n",
      "Epoch: 6\n",
      "Train Loss: 0.504 | Train Acc: 82.340% (41170/50000)\n",
      "Test Loss: 0.666 | Test Acc: 78.370% (7837/10000)\n",
      "Saving..\n",
      "\n",
      "Epoch: 7\n",
      "Train Loss: 0.459 | Train Acc: 84.056% (42028/50000)\n",
      "Test Loss: 0.712 | Test Acc: 75.480% (7548/10000)\n",
      "\n",
      "Epoch: 8\n",
      "Train Loss: 0.415 | Train Acc: 85.706% (42853/50000)\n",
      "Test Loss: 0.589 | Test Acc: 80.530% (8053/10000)\n",
      "Saving..\n",
      "\n",
      "Epoch: 9\n",
      "Train Loss: 0.389 | Train Acc: 86.402% (43201/50000)\n",
      "Test Loss: 0.491 | Test Acc: 82.790% (8279/10000)\n",
      "Saving..\n",
      "\n",
      "Epoch: 10\n",
      "Train Loss: 0.354 | Train Acc: 87.816% (43908/50000)\n",
      "Test Loss: 0.545 | Test Acc: 81.710% (8171/10000)\n",
      "\n",
      "Epoch: 11\n",
      "Train Loss: 0.343 | Train Acc: 88.118% (44059/50000)\n",
      "Test Loss: 0.540 | Test Acc: 82.060% (8206/10000)\n",
      "\n",
      "Epoch: 12\n",
      "Train Loss: 0.322 | Train Acc: 88.882% (44441/50000)\n",
      "Test Loss: 0.444 | Test Acc: 85.310% (8531/10000)\n",
      "Saving..\n",
      "\n",
      "Epoch: 13\n",
      "Train Loss: 0.296 | Train Acc: 89.840% (44920/50000)\n",
      "Test Loss: 0.500 | Test Acc: 83.790% (8379/10000)\n",
      "\n",
      "Epoch: 14\n",
      "Train Loss: 0.282 | Train Acc: 90.318% (45159/50000)\n",
      "Test Loss: 0.445 | Test Acc: 85.230% (8523/10000)\n",
      "\n",
      "Epoch: 15\n",
      "Train Loss: 0.268 | Train Acc: 90.696% (45348/50000)\n",
      "Test Loss: 0.537 | Test Acc: 82.810% (8281/10000)\n",
      "\n",
      "Epoch: 16\n",
      "Train Loss: 0.256 | Train Acc: 91.200% (45600/50000)\n",
      "Test Loss: 0.693 | Test Acc: 78.760% (7876/10000)\n",
      "\n",
      "Epoch: 17\n",
      "Train Loss: 0.247 | Train Acc: 91.450% (45725/50000)\n",
      "Test Loss: 0.554 | Test Acc: 82.510% (8251/10000)\n",
      "\n",
      "Epoch: 18\n",
      "Train Loss: 0.232 | Train Acc: 91.874% (45937/50000)\n",
      "Test Loss: 0.472 | Test Acc: 85.240% (8524/10000)\n",
      "\n",
      "Epoch: 19\n",
      "Train Loss: 0.224 | Train Acc: 92.060% (46030/50000)\n",
      "Test Loss: 0.444 | Test Acc: 86.070% (8607/10000)\n",
      "Saving..\n",
      "\n",
      "Epoch: 20\n",
      "Train Loss: 0.216 | Train Acc: 92.538% (46269/50000)\n",
      "Test Loss: 0.500 | Test Acc: 84.760% (8476/10000)\n",
      "\n",
      "Epoch: 21\n",
      "Train Loss: 0.214 | Train Acc: 92.602% (46301/50000)\n",
      "Test Loss: 0.450 | Test Acc: 86.090% (8609/10000)\n",
      "Saving..\n",
      "\n",
      "Epoch: 22\n",
      "Train Loss: 0.201 | Train Acc: 92.986% (46493/50000)\n",
      "Test Loss: 0.411 | Test Acc: 86.840% (8684/10000)\n",
      "Saving..\n",
      "\n",
      "Epoch: 23\n",
      "Train Loss: 0.194 | Train Acc: 93.242% (46621/50000)\n",
      "Test Loss: 0.564 | Test Acc: 82.540% (8254/10000)\n",
      "\n",
      "Epoch: 24\n",
      "Train Loss: 0.190 | Train Acc: 93.346% (46673/50000)\n",
      "Test Loss: 0.419 | Test Acc: 87.190% (8719/10000)\n",
      "Saving..\n",
      "\n",
      "Epoch: 25\n",
      "Train Loss: 0.184 | Train Acc: 93.572% (46786/50000)\n",
      "Test Loss: 0.377 | Test Acc: 88.070% (8807/10000)\n",
      "Saving..\n",
      "\n",
      "Epoch: 26\n",
      "Train Loss: 0.182 | Train Acc: 93.694% (46847/50000)\n",
      "Test Loss: 0.368 | Test Acc: 88.770% (8877/10000)\n",
      "Saving..\n",
      "\n",
      "Epoch: 27\n",
      "Train Loss: 0.174 | Train Acc: 93.966% (46983/50000)\n",
      "Test Loss: 0.378 | Test Acc: 87.920% (8792/10000)\n",
      "\n",
      "Epoch: 28\n",
      "Train Loss: 0.169 | Train Acc: 94.192% (47096/50000)\n",
      "Test Loss: 0.437 | Test Acc: 87.320% (8732/10000)\n",
      "\n",
      "Epoch: 29\n",
      "Train Loss: 0.166 | Train Acc: 94.186% (47093/50000)\n",
      "Test Loss: 0.435 | Test Acc: 86.830% (8683/10000)\n",
      "\n",
      "Epoch: 30\n",
      "Train Loss: 0.167 | Train Acc: 94.234% (47117/50000)\n",
      "Test Loss: 0.368 | Test Acc: 88.540% (8854/10000)\n",
      "\n",
      "Epoch: 31\n",
      "Train Loss: 0.163 | Train Acc: 94.330% (47165/50000)\n",
      "Test Loss: 0.475 | Test Acc: 85.340% (8534/10000)\n",
      "\n",
      "Epoch: 32\n",
      "Train Loss: 0.159 | Train Acc: 94.486% (47243/50000)\n",
      "Test Loss: 0.406 | Test Acc: 87.880% (8788/10000)\n",
      "\n",
      "Epoch: 33\n",
      "Train Loss: 0.152 | Train Acc: 94.724% (47362/50000)\n",
      "Test Loss: 0.536 | Test Acc: 84.540% (8454/10000)\n",
      "\n",
      "Epoch: 34\n",
      "Train Loss: 0.160 | Train Acc: 94.416% (47208/50000)\n",
      "Test Loss: 0.432 | Test Acc: 87.190% (8719/10000)\n",
      "\n",
      "Epoch: 35\n",
      "Train Loss: 0.148 | Train Acc: 94.864% (47432/50000)\n",
      "Test Loss: 0.418 | Test Acc: 88.160% (8816/10000)\n",
      "\n",
      "Epoch: 36\n",
      "Train Loss: 0.149 | Train Acc: 94.810% (47405/50000)\n",
      "Test Loss: 0.472 | Test Acc: 85.520% (8552/10000)\n",
      "\n",
      "Epoch: 37\n",
      "Train Loss: 0.149 | Train Acc: 94.772% (47386/50000)\n",
      "Test Loss: 0.365 | Test Acc: 88.870% (8887/10000)\n",
      "Saving..\n",
      "\n",
      "Epoch: 38\n",
      "Train Loss: 0.137 | Train Acc: 95.220% (47610/50000)\n",
      "Test Loss: 0.430 | Test Acc: 87.410% (8741/10000)\n",
      "\n",
      "Epoch: 39\n",
      "Train Loss: 0.138 | Train Acc: 95.248% (47624/50000)\n",
      "Test Loss: 0.461 | Test Acc: 87.100% (8710/10000)\n",
      "\n",
      "Epoch: 40\n",
      "Train Loss: 0.140 | Train Acc: 95.132% (47566/50000)\n",
      "Test Loss: 0.712 | Test Acc: 80.250% (8025/10000)\n",
      "\n",
      "Epoch: 41\n",
      "Train Loss: 0.138 | Train Acc: 95.226% (47613/50000)\n",
      "Test Loss: 0.377 | Test Acc: 88.910% (8891/10000)\n",
      "Saving..\n",
      "\n",
      "Epoch: 42\n",
      "Train Loss: 0.135 | Train Acc: 95.344% (47672/50000)\n",
      "Test Loss: 0.446 | Test Acc: 86.720% (8672/10000)\n",
      "\n",
      "Epoch: 43\n",
      "Train Loss: 0.126 | Train Acc: 95.560% (47780/50000)\n",
      "Test Loss: 0.405 | Test Acc: 88.380% (8838/10000)\n",
      "\n",
      "Epoch: 44\n",
      "Train Loss: 0.137 | Train Acc: 95.238% (47619/50000)\n",
      "Test Loss: 0.466 | Test Acc: 86.320% (8632/10000)\n",
      "\n",
      "Epoch: 45\n",
      "Train Loss: 0.123 | Train Acc: 95.708% (47854/50000)\n",
      "Test Loss: 0.363 | Test Acc: 89.280% (8928/10000)\n",
      "Saving..\n",
      "\n",
      "Epoch: 46\n",
      "Train Loss: 0.126 | Train Acc: 95.684% (47842/50000)\n",
      "Test Loss: 0.328 | Test Acc: 89.630% (8963/10000)\n",
      "Saving..\n",
      "\n",
      "Epoch: 47\n",
      "Train Loss: 0.127 | Train Acc: 95.572% (47786/50000)\n",
      "Test Loss: 0.425 | Test Acc: 87.450% (8745/10000)\n",
      "\n",
      "Epoch: 48\n",
      "Train Loss: 0.117 | Train Acc: 95.970% (47985/50000)\n",
      "Test Loss: 0.375 | Test Acc: 89.140% (8914/10000)\n",
      "\n",
      "Epoch: 49\n",
      "Train Loss: 0.118 | Train Acc: 95.826% (47913/50000)\n",
      "Test Loss: 0.419 | Test Acc: 87.930% (8793/10000)\n",
      "\n",
      "Epoch: 50\n",
      "Train Loss: 0.119 | Train Acc: 95.984% (47992/50000)\n",
      "Test Loss: 0.426 | Test Acc: 88.220% (8822/10000)\n",
      "\n",
      "Epoch: 51\n",
      "Train Loss: 0.122 | Train Acc: 95.732% (47866/50000)\n",
      "Test Loss: 0.382 | Test Acc: 88.150% (8815/10000)\n",
      "\n",
      "Epoch: 52\n",
      "Train Loss: 0.117 | Train Acc: 95.904% (47952/50000)\n",
      "Test Loss: 0.400 | Test Acc: 87.770% (8777/10000)\n",
      "\n",
      "Epoch: 53\n",
      "Train Loss: 0.111 | Train Acc: 96.184% (48092/50000)\n",
      "Test Loss: 0.337 | Test Acc: 90.130% (9013/10000)\n",
      "Saving..\n",
      "\n",
      "Epoch: 54\n",
      "Train Loss: 0.112 | Train Acc: 96.088% (48044/50000)\n",
      "Test Loss: 0.527 | Test Acc: 85.080% (8508/10000)\n",
      "\n",
      "Epoch: 55\n",
      "Train Loss: 0.114 | Train Acc: 96.044% (48022/50000)\n",
      "Test Loss: 0.360 | Test Acc: 89.480% (8948/10000)\n",
      "\n",
      "Epoch: 56\n",
      "Train Loss: 0.107 | Train Acc: 96.292% (48146/50000)\n",
      "Test Loss: 0.465 | Test Acc: 86.520% (8652/10000)\n",
      "\n",
      "Epoch: 57\n",
      "Train Loss: 0.103 | Train Acc: 96.466% (48233/50000)\n",
      "Test Loss: 0.519 | Test Acc: 86.360% (8636/10000)\n",
      "\n",
      "Epoch: 58\n",
      "Train Loss: 0.110 | Train Acc: 96.162% (48081/50000)\n",
      "Test Loss: 0.420 | Test Acc: 88.110% (8811/10000)\n",
      "\n",
      "Epoch: 59\n",
      "Train Loss: 0.106 | Train Acc: 96.408% (48204/50000)\n",
      "Test Loss: 0.506 | Test Acc: 86.350% (8635/10000)\n",
      "\n",
      "Epoch: 60\n",
      "Train Loss: 0.095 | Train Acc: 96.754% (48377/50000)\n",
      "Test Loss: 0.359 | Test Acc: 89.940% (8994/10000)\n",
      "\n",
      "Epoch: 61\n",
      "Train Loss: 0.098 | Train Acc: 96.588% (48294/50000)\n",
      "Test Loss: 0.438 | Test Acc: 87.550% (8755/10000)\n",
      "\n",
      "Epoch: 62\n",
      "Train Loss: 0.103 | Train Acc: 96.394% (48197/50000)\n",
      "Test Loss: 0.505 | Test Acc: 86.870% (8687/10000)\n",
      "\n",
      "Epoch: 63\n",
      "Train Loss: 0.100 | Train Acc: 96.524% (48262/50000)\n",
      "Test Loss: 0.377 | Test Acc: 89.120% (8912/10000)\n",
      "\n",
      "Epoch: 64\n",
      "Train Loss: 0.096 | Train Acc: 96.710% (48355/50000)\n",
      "Test Loss: 0.495 | Test Acc: 86.540% (8654/10000)\n",
      "\n",
      "Epoch: 65\n",
      "Train Loss: 0.091 | Train Acc: 96.878% (48439/50000)\n",
      "Test Loss: 0.356 | Test Acc: 89.210% (8921/10000)\n",
      "\n",
      "Epoch: 66\n",
      "Train Loss: 0.094 | Train Acc: 96.710% (48355/50000)\n",
      "Test Loss: 0.338 | Test Acc: 90.460% (9046/10000)\n",
      "Saving..\n",
      "\n",
      "Epoch: 67\n",
      "Train Loss: 0.090 | Train Acc: 96.884% (48442/50000)\n",
      "Test Loss: 0.385 | Test Acc: 89.280% (8928/10000)\n",
      "\n",
      "Epoch: 68\n",
      "Train Loss: 0.094 | Train Acc: 96.744% (48372/50000)\n",
      "Test Loss: 0.471 | Test Acc: 88.460% (8846/10000)\n",
      "\n",
      "Epoch: 69\n",
      "Train Loss: 0.087 | Train Acc: 97.030% (48515/50000)\n",
      "Test Loss: 0.374 | Test Acc: 89.560% (8956/10000)\n",
      "\n",
      "Epoch: 70\n",
      "Train Loss: 0.090 | Train Acc: 96.946% (48473/50000)\n",
      "Test Loss: 0.410 | Test Acc: 88.710% (8871/10000)\n",
      "\n",
      "Epoch: 71\n",
      "Train Loss: 0.086 | Train Acc: 97.086% (48543/50000)\n",
      "Test Loss: 0.410 | Test Acc: 88.630% (8863/10000)\n",
      "\n",
      "Epoch: 72\n",
      "Train Loss: 0.086 | Train Acc: 97.070% (48535/50000)\n",
      "Test Loss: 0.455 | Test Acc: 88.010% (8801/10000)\n",
      "\n",
      "Epoch: 73\n",
      "Train Loss: 0.088 | Train Acc: 96.996% (48498/50000)\n",
      "Test Loss: 0.432 | Test Acc: 88.410% (8841/10000)\n",
      "\n",
      "Epoch: 74\n",
      "Train Loss: 0.081 | Train Acc: 97.220% (48610/50000)\n",
      "Test Loss: 0.432 | Test Acc: 88.600% (8860/10000)\n",
      "\n",
      "Epoch: 75\n",
      "Train Loss: 0.077 | Train Acc: 97.376% (48688/50000)\n",
      "Test Loss: 0.402 | Test Acc: 88.910% (8891/10000)\n",
      "\n",
      "Epoch: 76\n",
      "Train Loss: 0.087 | Train Acc: 96.984% (48492/50000)\n",
      "Test Loss: 0.363 | Test Acc: 89.950% (8995/10000)\n",
      "\n",
      "Epoch: 77\n",
      "Train Loss: 0.083 | Train Acc: 97.166% (48583/50000)\n",
      "Test Loss: 0.327 | Test Acc: 90.570% (9057/10000)\n",
      "Saving..\n",
      "\n",
      "Epoch: 78\n",
      "Train Loss: 0.081 | Train Acc: 97.192% (48596/50000)\n",
      "Test Loss: 0.392 | Test Acc: 89.070% (8907/10000)\n",
      "\n",
      "Epoch: 79\n",
      "Train Loss: 0.074 | Train Acc: 97.474% (48737/50000)\n",
      "Test Loss: 0.496 | Test Acc: 86.690% (8669/10000)\n"
     ]
    },
    {
     "data": {
      "image/png": "[encoded data removed]",
      "text/plain": [
       "<Figure size 720x360 with 2 Axes>"
      ]
     },
     "metadata": {
      "needs_background": "light"
     },
     "output_type": "display_data"
    }
   ],
   "source": [
    "import matplotlib.pyplot as plt\n",
    "\n",
    "train_losses = []\n",
    "train_accs = []\n",
    "test_losses = []\n",
    "test_accs = []\n",
    "\n",
    "def train(epoch):\n",
    "    global train_losses, train_accs\n",
    "    print('\\nEpoch: %d' % epoch)\n",
    "    net.train()\n",
    "    train_loss = 0\n",
    "    correct = 0\n",
    "    total = 0\n",
    "    for batch_idx, (inputs, targets) in enumerate(trainloader):\n",
    "        inputs, targets = inputs.to(device), targets.to(device)\n",
    "        optimizer.zero_grad()\n",
    "        outputs = net(inputs)\n",
    "        loss = criterion(outputs, targets)\n",
    "        loss.backward()\n",
    "        optimizer.step()\n",
    "\n",
    "        train_loss += loss.item()\n",
    "        _, predicted = outputs.max(1)\n",
    "        total += targets.size(0)\n",
    "        correct += predicted.eq(targets).sum().item()\n",
    "\n",
    "    train_losses.append(train_loss/(batch_idx+1))\n",
    "    train_accs.append(100.*correct/total)\n",
    "    print('Train Loss: %.3f | Train Acc: %.3f%% (%d/%d)'% (train_losses[-1], train_accs[-1], correct, total))\n",
    "\n",
    "def test(epoch):\n",
    "    global best_acc, test_losses, test_accs\n",
    "    net.eval()\n",
    "    test_loss = 0\n",
    "    correct = 0\n",
    "    total = 0\n",
    "    with torch.no_grad():\n",
    "        for batch_idx, (inputs, targets) in enumerate(testloader):\n",
    "            inputs, targets = inputs.to(device), targets.to(device)\n",
    "            outputs = net(inputs)\n",
    "            loss = criterion(outputs, targets)\n",
    "\n",
    "            test_loss += loss.item()\n",
    "            _, predicted = outputs.max(1)\n",
    "            total += targets.size(0)\n",
    "            correct += predicted.eq(targets).sum().item()\n",
    "\n",
    "        test_losses.append(test_loss/(batch_idx+1))\n",
    "        test_accs.append(100.*correct/total)\n",
    "        print('Test Loss: %.3f | Test Acc: %.3f%% (%d/%d)'% (test_losses[-1], test_accs[-1], correct, total))\n",
    "\n",
    "        # Save checkpoint.\n",
    "        acc = 100.*correct/total\n",
    "        if acc > best_acc:\n",
    "            print('Saving..')\n",
    "            state = {\n",
    "                'net': net.state_dict(),\n",
    "                'acc': acc,\n",
    "                'epoch': epoch,\n",
    "            }\n",
    "            if not os.path.isdir('checkpoint'):\n",
    "                os.mkdir('checkpoint')\n",
    "            torch.save(state, './checkpoint/model3.pth')\n",
    "            best_acc = acc\n",
    "\n",
    "# Train and test the model for multiple epochs\n",
    "for epoch in range(start_epoch, 80):\n",
    "    train(epoch)\n",
    "    test(epoch)\n",
    "    scheduler.step()\n",
    "\n",
    "# Plot the training and testing curves\n",
    "plt.figure(figsize=(10,5))\n",
    "plt.subplot(1,2,1)\n",
    "plt.plot(train_losses,label='Train')\n",
    "plt.plot(test_losses,label='Test')\n",
    "plt.xlabel('Epoch')\n",
    "plt.ylabel('Loss')\n",
    "plt.legend()\n",
    "plt.subplot(1,2,2)\n",
    "plt.plot(train_accs,label='Train')\n",
    "plt.plot(test_accs,label='Test')\n",
    "plt.xlabel('Epoch')\n",
    "plt.ylabel('Accuracy')\n",
    "plt.legend()\n",
    "plt.show()"
   ]
  },
  {
   "cell_type": "code",
   "execution_count": null,
   "metadata": {
    "id": "6eFWRVKJzvP5"
   },
   "outputs": [],
   "source": []
  }
 ],
 "metadata": {
  "accelerator": "GPU",
  "colab": {
   "provenance": []
  },
  "gpuClass": "standard",
  "kernelspec": {
   "display_name": "Python 3",
   "language": "python",
   "name": "python3"
  },
  "language_info": {
   "codemirror_mode": {
    "name": "ipython",
    "version": 3
   },
   "file_extension": ".py",
   "mimetype": "text/x-python",
   "name": "python",
   "nbconvert_exporter": "python",
   "pygments_lexer": "ipython3",
   "version": "3.8.6"
  }
 },
 "nbformat": 4,
 "nbformat_minor": 1
}
